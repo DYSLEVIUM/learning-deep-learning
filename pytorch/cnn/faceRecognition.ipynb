{
  "cells": [
    {
      "cell_type": "markdown",
      "metadata": {
        "id": "wG8GjTPMwIpI"
      },
      "source": [
        "# Parallel Ensemble Learning of Convolutional Neural Network and Local Binary Pattern for Face Recognition"
      ]
    },
    {
      "cell_type": "markdown",
      "metadata": {
        "id": "PzfqCwG1t3xA"
      },
      "source": [
        "# Install Dependencies"
      ]
    },
    {
      "cell_type": "code",
      "execution_count": null,
      "metadata": {
        "colab": {
          "base_uri": "https://localhost:8080/"
        },
        "id": "Y9bX6Stsqag4",
        "outputId": "2f350856-a0de-436b-9ab4-5ee9b007c675"
      },
      "outputs": [
        {
          "output_type": "stream",
          "name": "stdout",
          "text": [
            "Looking in indexes: https://pypi.org/simple, https://us-python.pkg.dev/colab-wheels/public/simple/\n",
            "Requirement already satisfied: torch in /usr/local/lib/python3.8/dist-packages (1.13.0+cu116)\n",
            "Requirement already satisfied: torchvision in /usr/local/lib/python3.8/dist-packages (0.14.0+cu116)\n",
            "Requirement already satisfied: Pillow in /usr/local/lib/python3.8/dist-packages (7.1.2)\n",
            "Requirement already satisfied: scikit-image in /usr/local/lib/python3.8/dist-packages (0.18.3)\n",
            "Requirement already satisfied: tqdm in /usr/local/lib/python3.8/dist-packages (4.64.1)\n",
            "Requirement already satisfied: torchinfo in /usr/local/lib/python3.8/dist-packages (1.7.1)\n",
            "Requirement already satisfied: typing-extensions in /usr/local/lib/python3.8/dist-packages (from torch) (4.4.0)\n",
            "Requirement already satisfied: requests in /usr/local/lib/python3.8/dist-packages (from torchvision) (2.23.0)\n",
            "Requirement already satisfied: numpy in /usr/local/lib/python3.8/dist-packages (from torchvision) (1.21.6)\n",
            "Requirement already satisfied: tifffile>=2019.7.26 in /usr/local/lib/python3.8/dist-packages (from scikit-image) (2022.10.10)\n",
            "Requirement already satisfied: networkx>=2.0 in /usr/local/lib/python3.8/dist-packages (from scikit-image) (2.8.8)\n",
            "Requirement already satisfied: matplotlib!=3.0.0,>=2.0.0 in /usr/local/lib/python3.8/dist-packages (from scikit-image) (3.2.2)\n",
            "Requirement already satisfied: scipy>=1.0.1 in /usr/local/lib/python3.8/dist-packages (from scikit-image) (1.7.3)\n",
            "Requirement already satisfied: imageio>=2.3.0 in /usr/local/lib/python3.8/dist-packages (from scikit-image) (2.9.0)\n",
            "Requirement already satisfied: PyWavelets>=1.1.1 in /usr/local/lib/python3.8/dist-packages (from scikit-image) (1.4.1)\n",
            "Requirement already satisfied: cycler>=0.10 in /usr/local/lib/python3.8/dist-packages (from matplotlib!=3.0.0,>=2.0.0->scikit-image) (0.11.0)\n",
            "Requirement already satisfied: python-dateutil>=2.1 in /usr/local/lib/python3.8/dist-packages (from matplotlib!=3.0.0,>=2.0.0->scikit-image) (2.8.2)\n",
            "Requirement already satisfied: kiwisolver>=1.0.1 in /usr/local/lib/python3.8/dist-packages (from matplotlib!=3.0.0,>=2.0.0->scikit-image) (1.4.4)\n",
            "Requirement already satisfied: pyparsing!=2.0.4,!=2.1.2,!=2.1.6,>=2.0.1 in /usr/local/lib/python3.8/dist-packages (from matplotlib!=3.0.0,>=2.0.0->scikit-image) (3.0.9)\n",
            "Requirement already satisfied: six>=1.5 in /usr/local/lib/python3.8/dist-packages (from python-dateutil>=2.1->matplotlib!=3.0.0,>=2.0.0->scikit-image) (1.15.0)\n",
            "Requirement already satisfied: idna<3,>=2.5 in /usr/local/lib/python3.8/dist-packages (from requests->torchvision) (2.10)\n",
            "Requirement already satisfied: certifi>=2017.4.17 in /usr/local/lib/python3.8/dist-packages (from requests->torchvision) (2022.12.7)\n",
            "Requirement already satisfied: chardet<4,>=3.0.2 in /usr/local/lib/python3.8/dist-packages (from requests->torchvision) (3.0.4)\n",
            "Requirement already satisfied: urllib3!=1.25.0,!=1.25.1,<1.26,>=1.21.1 in /usr/local/lib/python3.8/dist-packages (from requests->torchvision) (1.24.3)\n"
          ]
        }
      ],
      "source": [
        "!pip install torch torchvision Pillow scikit-image tqdm torchinfo"
      ]
    },
    {
      "cell_type": "markdown",
      "metadata": {
        "id": "uIy_6Hcnt6Sw"
      },
      "source": [
        "# Imports"
      ]
    },
    {
      "cell_type": "code",
      "execution_count": null,
      "metadata": {
        "id": "4C1-reTjqggP",
        "colab": {
          "base_uri": "https://localhost:8080/"
        },
        "outputId": "dcb3701a-7a1a-456a-9ee5-d3ebb9c81c21"
      },
      "outputs": [
        {
          "output_type": "stream",
          "name": "stdout",
          "text": [
            "1.13.0+cu116\n",
            "0.14.0+cu116\n"
          ]
        }
      ],
      "source": [
        "import os\n",
        "import math\n",
        "from abc import ABC, abstractmethod\n",
        "\n",
        "from google.colab import drive\n",
        "\n",
        "import numpy as np\n",
        "\n",
        "from IPython.display import display\n",
        "from PIL import Image\n",
        "\n",
        "import torch\n",
        "import torch.nn as nn\n",
        "import torch.optim as optim\n",
        "import torch.nn.functional as F\n",
        "from torch.autograd import Variable\n",
        "from torch.utils.data import TensorDataset, Dataset, DataLoader, random_split\n",
        "\n",
        "import torchvision\n",
        "from torchvision.utils import make_grid\n",
        "import torchvision.transforms as transforms\n",
        "\n",
        "from tqdm.auto import tqdm\n",
        "from torchinfo import summary\n",
        "\n",
        "import matplotlib.pyplot as plt\n",
        "import seaborn as sns\n",
        "\n",
        "%matplotlib inline\n",
        "sns.set()\n",
        "\n",
        "print(torch.__version__)\n",
        "print(torchvision.__version__)\n",
        "\n",
        "torch.manual_seed(42)\n",
        "torch.cuda.manual_seed_all(42)"
      ]
    },
    {
      "cell_type": "code",
      "source": [
        "drive.mount('/content/gdrive')"
      ],
      "metadata": {
        "id": "L8aDEcaUo6J-",
        "colab": {
          "base_uri": "https://localhost:8080/"
        },
        "outputId": "62c468da-9321-4eb8-f8b7-573442c08df2"
      },
      "execution_count": null,
      "outputs": [
        {
          "output_type": "stream",
          "name": "stdout",
          "text": [
            "Drive already mounted at /content/gdrive; to attempt to forcibly remount, call drive.mount(\"/content/gdrive\", force_remount=True).\n"
          ]
        }
      ]
    },
    {
      "cell_type": "markdown",
      "source": [
        "# Constants"
      ],
      "metadata": {
        "id": "cm9jTHtx92Xp"
      }
    },
    {
      "cell_type": "code",
      "source": [
        "ORL_DATASET_PATH = '/content/gdrive/MyDrive/Colab Notebooks/dataset/orl'\n",
        "YALEB_DATASET_PATH = '/content/gdrive/MyDrive/Colab Notebooks/dataset/yale'"
      ],
      "metadata": {
        "id": "5RCu0cpx9yjI"
      },
      "execution_count": null,
      "outputs": []
    },
    {
      "cell_type": "markdown",
      "source": [
        "# Cleanup"
      ],
      "metadata": {
        "id": "mq_3v3mUK3sI"
      }
    },
    {
      "cell_type": "markdown",
      "source": [
        "# Preprocess Dataset"
      ],
      "metadata": {
        "id": "1FyFQb8IHbUx"
      }
    },
    {
      "cell_type": "code",
      "source": [
        "class ImageClassificationDataset(ABC, Dataset):\n",
        "  def __init__(self, dataset, transform=None):\n",
        "    self.dataset = dataset\n",
        "    self.transform = transform\n",
        "\n",
        "  def __len__(self):\n",
        "    return len(self.dataset[0])\n",
        "\n",
        "  def __getitem__(self, idx):\n",
        "    if torch.is_tensor(idx):\n",
        "      idx = idx.tolist()\n",
        "\n",
        "    image, label = Image.open(self.dataset[0][idx]), self.dataset[1][idx]\n",
        "    \n",
        "    if self.transform:\n",
        "      image = self.transform(image)\n",
        "    \n",
        "    return image, label\n",
        "\n",
        "  @abstractmethod\n",
        "  def loadDataset(self):\n",
        "    pass"
      ],
      "metadata": {
        "id": "QNuQ9JmOlv2b"
      },
      "execution_count": null,
      "outputs": []
    },
    {
      "cell_type": "markdown",
      "source": [
        "## ORL Dataset"
      ],
      "metadata": {
        "id": "xKo3gWEfJ8NN"
      }
    },
    {
      "cell_type": "code",
      "source": [
        "class ORLDataset(ImageClassificationDataset):\n",
        "  def __init__(self, transform=None):\n",
        "    images, labels = self.loadDataset()\n",
        "\n",
        "    self.number_of_categories = np.unique(labels).size\n",
        "\n",
        "    super().__init__((images, labels), transform)\n",
        "\n",
        "  def loadDataset(self):\n",
        "    files = os.listdir(ORL_DATASET_PATH)\n",
        "    images, labels = list(), list()\n",
        "\n",
        "    for file in files:\n",
        "      base, ext = os.path.splitext(file)\n",
        "      num, cl = base.split('_')\n",
        "\n",
        "      images.append(ORL_DATASET_PATH + '/' + file)\n",
        "      labels.append(int(cl) - 1)\n",
        "\n",
        "    return images, labels"
      ],
      "metadata": {
        "id": "TZsXaISmgGCZ"
      },
      "execution_count": null,
      "outputs": []
    },
    {
      "cell_type": "markdown",
      "source": [
        "## Yale-B Dataset"
      ],
      "metadata": {
        "id": "A-2ZNT7g2LB3"
      }
    },
    {
      "cell_type": "code",
      "source": [
        "class YaleBDataset(ImageClassificationDataset):\n",
        "  def __init__(self, transform=None):\n",
        "    images, labels = self.loadDataset()\n",
        "\n",
        "    self.number_of_categories = np.unique(labels).size\n",
        "\n",
        "    super().__init__((images, labels), transform)\n",
        "\n",
        "  def loadDataset(self):\n",
        "    files = os.listdir(YALEB_DATASET_PATH)\n",
        "    images, labels = list(), list()\n",
        "\n",
        "    for file in files:\n",
        "      base, ext = os.path.splitext(file)\n",
        "      cl = int(base[-2]) * 10 + int(base[-1]) \n",
        "\n",
        "      images.append(YALEB_DATASET_PATH + '/' + file)\n",
        "      labels.append(int(cl) - 1)\n",
        "\n",
        "    return images, labels"
      ],
      "metadata": {
        "id": "Ao4KxYMj2LB7"
      },
      "execution_count": null,
      "outputs": []
    },
    {
      "cell_type": "markdown",
      "source": [
        "## Pytorch Transformers and DataLoaders"
      ],
      "metadata": {
        "id": "gPGxSeIBKcb_"
      }
    },
    {
      "cell_type": "code",
      "source": [
        "IMG_SIZE = 64"
      ],
      "metadata": {
        "id": "ddoe8q6MRGSB"
      },
      "execution_count": null,
      "outputs": []
    },
    {
      "cell_type": "code",
      "source": [
        "from skimage.feature import local_binary_pattern\n",
        "class LocalBinaryPatternTransform:\n",
        "  # define a function to compute the local binary pattern of an image\n",
        "  def localBinaryPattern(self, img):\n",
        "    # Apply LBP to the grayscale image\n",
        "    lbp_image = local_binary_pattern(img, 8, 1, 'default')\n",
        "    return lbp_image.astype(np.uint8)\n",
        "\n",
        "  def __call__(self, img):\n",
        "    return self.localBinaryPattern(img)\n",
        "    \n",
        "train_transformer = transforms.Compose([\n",
        "  transforms.Grayscale(),\n",
        "  transforms.Resize((IMG_SIZE, IMG_SIZE)),\n",
        "  transforms.TrivialAugmentWide(),\n",
        "  transforms.RandomHorizontalFlip(),\n",
        "  transforms.RandomVerticalFlip(),\n",
        "  LocalBinaryPatternTransform(),\n",
        "  transforms.ToTensor(), # [0, 255] to [0, 1], numpy to tensors\n",
        "  transforms.Normalize(0.5, # [0, 1] to [-1, 1], formula => (x - mean) / std, here mean = 0.5 and std = 0.5 for every channel (here it is 1 as we applied lbp)\n",
        "                       0.5)\n",
        "])\n",
        "\n",
        "valid_transformer = transforms.Compose([\n",
        "  transforms.Grayscale(),\n",
        "  transforms.Resize((IMG_SIZE, IMG_SIZE)),\n",
        "  LocalBinaryPatternTransform(),\n",
        "  transforms.ToTensor(), # [0, 255] to [0, 1], numpy to tensors\n",
        "  transforms.Normalize(0.5, # [0, 1] to [-1, 1], formula => (x - mean) / std, here mean = 0.5 and std = 0.5 for every channel (here it is 1 as we applied lbp)\n",
        "                       0.5)\n",
        "])"
      ],
      "metadata": {
        "id": "iJan6sECZVQ3"
      },
      "execution_count": null,
      "outputs": []
    },
    {
      "cell_type": "markdown",
      "source": [
        "# Prepare the dataset for training"
      ],
      "metadata": {
        "id": "tF4u4fKADEVB"
      }
    },
    {
      "cell_type": "code",
      "source": [
        "# dataset = ORLDataset(transform=train_transformer)\n",
        "dataset = YaleBDataset(transform=train_transformer)\n",
        "\n",
        "train_set_size = int(len(dataset) * 0.8)\n",
        "valid_set_size = len(dataset) - train_set_size\n",
        "\n",
        "train_dataset, valid_dataset = random_split(dataset, [train_set_size, valid_set_size])"
      ],
      "metadata": {
        "id": "Z6Iq348yC8eg"
      },
      "execution_count": null,
      "outputs": []
    },
    {
      "cell_type": "markdown",
      "metadata": {
        "id": "8tWpgRu-xBJr"
      },
      "source": [
        "# Models"
      ]
    },
    {
      "cell_type": "markdown",
      "metadata": {
        "id": "sjUbHt6Ij1Ap"
      },
      "source": [
        "## Hyperparameters"
      ]
    },
    {
      "cell_type": "code",
      "source": [
        "EPOCHS = 32\n",
        "BATCH_SIZE = 8\n",
        "LEARNING_RATE = 0.001\n",
        "WEIGHT_DECAY = 0.0001\n",
        "MOMENTUM = 0.3"
      ],
      "metadata": {
        "id": "KpOXEvc-j1Aq"
      },
      "execution_count": null,
      "outputs": []
    },
    {
      "cell_type": "markdown",
      "source": [
        "## Ensemble Model"
      ],
      "metadata": {
        "id": "V7bouFHBzt9j"
      }
    },
    {
      "cell_type": "code",
      "source": [
        "# ensemble of convolutional neural networks\n",
        "class Ensemble(nn.Module):\n",
        "    def __init__(self, models, device_ids):\n",
        "      super().__init__()\n",
        "\n",
        "      self.models = models\n",
        "      self.criterion = nn.CrossEntropyLoss() # softmax is already implemented\n",
        "\n",
        "      # weight_decay is used for L2 regularization(Ridge regression adds \"squared magnitude\" of coefficient as penalty term to the loss function)\n",
        "      # L1 regulariztion is Lasso Regression (Least Absolute Shrinkage and Selection Operator) adds \"absolute value of magnitude\" of coefficient as penalty term to the loss function.\n",
        "      self.optimizer = optim.Adam(self.models.parameters(), lr=LEARNING_RATE, weight_decay=WEIGHT_DECAY)\n",
        "      # self.optimizer = optim.SGD(self.models.parameters(), lr=0.1, weight_decay=WEIGHT_DECAY, momentum=MOMENTUM)\n",
        "\n",
        "      self.scheduler = optim.lr_scheduler.StepLR(self.optimizer, step_size=16, gamma=0.1)\n",
        "\n",
        "      # use DataParallel to run the models in parallel on multiple GPUs\n",
        "      self.parallel = nn.DataParallel(self.models, device_ids)\n",
        "\n",
        "    def forward(self, x):\n",
        "      # # apply each model to the input and return the average output\n",
        "      outputs = [model(x) for model in self.models]\n",
        "\n",
        "      max_output, max_indices = torch.max(torch.stack(outputs), dim=0)\n",
        "      \n",
        "      # Return the maximum output value\n",
        "      return max_output"
      ],
      "metadata": {
        "id": "CpELL7EYc43K"
      },
      "execution_count": null,
      "outputs": []
    },
    {
      "cell_type": "markdown",
      "metadata": {
        "id": "VjKo1RHDuuhH"
      },
      "source": [
        "## Convolutional Neural Network Models"
      ]
    },
    {
      "cell_type": "markdown",
      "source": [
        "### Structure A"
      ],
      "metadata": {
        "id": "oWOKCjM96IoY"
      }
    },
    {
      "cell_type": "code",
      "execution_count": null,
      "metadata": {
        "id": "IKGoQL2BvmCP"
      },
      "outputs": [],
      "source": [
        "# we haven't implemented skip connection and dropout, and we used batch normalization as opposed to layer normalization\n",
        "# For a CNN, the 'kernel' is the 'weight matrix' and that is essentially what the network is trying to learn\n",
        "# define the convolutional neural network\n",
        "class CNNA(nn.Module):\n",
        "  def __init__(self, channels, classes):\n",
        "    super(CNNA, self).__init__()\n",
        "    # Input Shape: (1, IMG_SIZE, IMG_SIZE)\n",
        "\n",
        "    # output size of convolution filter = (w - f + 2P) / S + 1, where w is width, f is kernel size, p is padding, s is stride\n",
        "\n",
        "    # every input_channel has its own filter, and every out_channel corresponds to a how many filters to have in each filter bank => here 1 * 4 kernels\n",
        "    self.conv1 = nn.Conv2d(in_channels=channels, out_channels=8, kernel_size=3, stride=1, padding=1, dilation=1, padding_mode='zeros', groups=1, bias=False) # same shape convolution, bias is set to false as the batch norm’s beta parameter (bias of nn.BatchNorm) will have the same effect and the bias of the conv layer might be canceled out by the mean subtraction.\n",
        "    self.bn1 = nn.BatchNorm2d(num_features=8)\n",
        "\n",
        "    self.conv2 = nn.Conv2d(in_channels=8, out_channels=16, kernel_size=3, stride=1, padding=1, dilation=1, bias=False) # same shape convolution\n",
        "    self.bn2 = nn.BatchNorm2d(num_features=16)\n",
        "\n",
        "    # after pooling, size will width and height will decrease by a factor of 2\n",
        "    self.pool1 = nn.MaxPool2d(kernel_size=2, stride=2) # Shape: (16, IMG_SIZE / 2, IMG_SIZE / 2)\n",
        "\n",
        "    \"\"\"\n",
        "    In CNN the output feature maps are sensitive to the location of features in the input. \n",
        "    If the input image is translated the output feature map will also be affected by the translation,\n",
        "    so that small movements in the position of the feature in the input image will result in a different feature map.\n",
        "    One way to adress this sensitivity problem is using pooling layers, because of their down sampling ability.\n",
        "    Pooling layers create a lower resolution version of the input that still contains the large or important structural elements,\n",
        "    without the fine details which may be not usefull for the task.\n",
        "\n",
        "    So the max pooling layer makes the image unclear for the human eye by sampling it down to a lower resolution,\n",
        "    but for the machine learning model it mostly removes not relevant elements and makes it more robust to changes in the input (like rotation, shifting, translation etc.)\n",
        "    \"\"\"\n",
        "\n",
        "    self.pool2 = nn.MaxPool2d(kernel_size=2, stride=2) # Shape: (16, IMG_SIZE / 4, IMG_SIZE / 4)\n",
        "\n",
        "    self.fc1 = nn.Linear(in_features=16 * IMG_SIZE // 4 * IMG_SIZE // 4, out_features=64)\n",
        "    self.fc2 = nn.Linear(in_features=64, out_features=classes)\n",
        "\n",
        "  def forward(self, x):\n",
        "    \"\"\"\n",
        "    Typically, dropout is applied after the non-linear activation function (a). \n",
        "    However, when using rectified linear units (ReLUs), \n",
        "    it might make sense to apply dropout before the non-linear activation (b) \n",
        "    for reasons of computational efficiency depending on the particular code implementation.\n",
        "    \"\"\"\n",
        "\n",
        "    x = F.relu(self.bn1(self.conv1(x)))\n",
        "    x = self.pool1(x)\n",
        "\n",
        "    x = F.relu(self.bn2(self.conv2(x)))\n",
        "    x = self.pool2(x)\n",
        "\n",
        "    x = torch.flatten(x, start_dim=1) # flattening, It takes in a tensor and the start dimension start_dim as input and returns a new tensor that has all the dimensions after start_dim flattened into one\n",
        "\n",
        "    x = F.relu(self.fc1(x))\n",
        "    x = self.fc2(x)\n",
        "\n",
        "    return x"
      ]
    },
    {
      "cell_type": "markdown",
      "source": [
        "### Structure B"
      ],
      "metadata": {
        "id": "CHS0c9QF6eQT"
      }
    },
    {
      "cell_type": "code",
      "execution_count": null,
      "metadata": {
        "id": "7PoMQ1mkGZkV"
      },
      "outputs": [],
      "source": [
        "class CNNB(nn.Module):\n",
        "  def __init__(self, channels, classes):\n",
        "    super(CNNB, self).__init__()\n",
        "\n",
        "    self.conv_layers = nn.Sequential(\n",
        "      nn.Conv2d(in_channels=channels, out_channels=4, kernel_size=3, stride=1, padding=1, dilation=1, bias=False),\n",
        "      nn.BatchNorm2d(num_features=4),\n",
        "      nn.LeakyReLU(0.1),\n",
        "      nn.MaxPool2d(kernel_size=2, stride=2),\n",
        "      \n",
        "      nn.Conv2d(in_channels=4, out_channels=8, kernel_size=3, stride=1, padding=1, dilation=1, bias=False),\n",
        "      nn.BatchNorm2d(num_features=8),\n",
        "      nn.LeakyReLU(0.1),\n",
        "      nn.MaxPool2d(kernel_size=2, stride=2)\n",
        "    )\n",
        "\n",
        "    self.classifier = nn.Sequential(\n",
        "      nn.Linear(in_features=8 * IMG_SIZE // 4 * IMG_SIZE // 4, out_features=32),\n",
        "      nn.Linear(in_features=32, out_features=classes)\n",
        "    )\n",
        "\n",
        "  def forward(self, x):\n",
        "    x = self.conv_layers(x)\n",
        "\n",
        "    x = torch.flatten(x, start_dim=1)\n",
        "\n",
        "    x = self.classifier(x)\n",
        "    return x"
      ]
    },
    {
      "cell_type": "markdown",
      "source": [
        "### Structure C"
      ],
      "metadata": {
        "id": "UvamWM43607d"
      }
    },
    {
      "cell_type": "code",
      "execution_count": null,
      "metadata": {
        "id": "rozIXUT0HP8n"
      },
      "outputs": [],
      "source": [
        "class CNNC(nn.Module):\n",
        "  def __init__(self, channels, classes):\n",
        "    super(CNNC, self).__init__()\n",
        "    self.conv1 = nn.Conv2d(in_channels=channels, out_channels=16, kernel_size=3, stride=1, padding=1, dilation=1, bias=False)\n",
        "    self.bn1 = nn.BatchNorm2d(num_features=16)\n",
        "    self.pool1 = nn.MaxPool2d(kernel_size=2, stride=2)\n",
        "\n",
        "    self.fc1 = nn.Linear(in_features=16 * IMG_SIZE // 2 * IMG_SIZE // 2, out_features=64)\n",
        "    self.fc2 = nn.Linear(in_features=64, out_features=classes)\n",
        "\n",
        "  def forward(self, x):\n",
        "    x = F.relu(self.bn1(self.conv1(x)))\n",
        "    x = self.pool1(x)\n",
        "\n",
        "    x = torch.flatten(x, 1)\n",
        "\n",
        "    x = F.relu(self.fc1(x))\n",
        "    x = self.fc2(x)\n",
        "\n",
        "    return x"
      ]
    },
    {
      "cell_type": "markdown",
      "source": [
        "### Structure D"
      ],
      "metadata": {
        "id": "LLbjVImX7GCD"
      }
    },
    {
      "cell_type": "code",
      "execution_count": null,
      "metadata": {
        "id": "UH9nK98JHQC7"
      },
      "outputs": [],
      "source": [
        "class CNND(nn.Module):\n",
        "  def __init__(self, channels, classes):\n",
        "    super(CNND, self).__init__()\n",
        "    self.conv1 = nn.Conv2d(in_channels=channels, out_channels=8, kernel_size=3, stride=1, padding=1, dilation=1, bias=False)\n",
        "    self.bn1 = nn.BatchNorm2d(num_features=8)\n",
        "    self.pool1 = nn.AvgPool2d(kernel_size=2, stride=2)\n",
        "\n",
        "    self.fc1 = nn.Linear(in_features=8 * IMG_SIZE // 2 * IMG_SIZE // 2, out_features=32)\n",
        "    self.fc2 = nn.Linear(in_features=32, out_features=classes)\n",
        "\n",
        "  def forward(self, x):\n",
        "    x = F.relu(self.bn1(self.conv1(x)))\n",
        "    x = self.pool1(x)\n",
        "\n",
        "    x = torch.flatten(x, 1)\n",
        "\n",
        "    x = F.relu(self.fc1(x))\n",
        "    x = self.fc2(x)\n",
        "\n",
        "    return x"
      ]
    },
    {
      "cell_type": "markdown",
      "source": [
        "### Structure E"
      ],
      "metadata": {
        "id": "jFNe3Ygf7Tl-"
      }
    },
    {
      "cell_type": "code",
      "execution_count": null,
      "metadata": {
        "id": "sqAZTnPUHQIv"
      },
      "outputs": [],
      "source": [
        "class CNNE(nn.Module):\n",
        "  def __init__(self, channels, classes):\n",
        "    super(CNNE, self).__init__()\n",
        "    self.conv1 = nn.Conv2d(in_channels=channels, out_channels=16, kernel_size=3, stride=1, padding=1, dilation=1, bias=False)\n",
        "    self.bn1 = nn.BatchNorm2d(num_features=16)\n",
        "    self.pool1 = nn.AvgPool2d(kernel_size=2, stride=2)\n",
        "\n",
        "    self.fc1 = nn.Linear(in_features=16 * IMG_SIZE // 2 * IMG_SIZE // 2, out_features=64)\n",
        "    self.fc2 = nn.Linear(in_features=64, out_features=classes)\n",
        "\n",
        "  def forward(self, x):\n",
        "    x = F.relu(self.bn1(self.conv1(x)))\n",
        "    x = self.pool1(x)\n",
        "\n",
        "    x = torch.flatten(x, 1)\n",
        "\n",
        "    x = F.relu(self.fc1(x))\n",
        "    x = self.fc2(x)\n",
        "\n",
        "    return x"
      ]
    },
    {
      "cell_type": "markdown",
      "source": [
        "# Load the data to Pytorch Dataloaders"
      ],
      "metadata": {
        "id": "O09-YA6dj_mG"
      }
    },
    {
      "cell_type": "code",
      "source": [
        "train_loader = DataLoader(train_dataset, batch_size=BATCH_SIZE, shuffle=True, num_workers=os.cpu_count(), pin_memory=True, drop_last=True)\n",
        "valid_loader = DataLoader(valid_dataset, batch_size=BATCH_SIZE, shuffle=False, num_workers=os.cpu_count(), pin_memory=True)"
      ],
      "metadata": {
        "id": "YMx_hgwYkEca"
      },
      "execution_count": null,
      "outputs": []
    },
    {
      "cell_type": "markdown",
      "metadata": {
        "id": "pZlO5nVJvova"
      },
      "source": [
        "# Train Model"
      ]
    },
    {
      "cell_type": "code",
      "source": [
        "# get the number of GPUs on the system\n",
        "num_gpus = torch.cuda.device_count()\n",
        "\n",
        "# set device\n",
        "device = torch.device('cuda' if num_gpus else 'cpu')\n",
        "\n",
        "device_ids = list(range(num_gpus))\n",
        "device_ids\n",
        "\n",
        "# clear the GPUs\n",
        "torch.cuda.empty_cache()"
      ],
      "metadata": {
        "id": "GDmqIhpJg6x6"
      },
      "execution_count": null,
      "outputs": []
    },
    {
      "cell_type": "code",
      "source": [
        "classes = dataset.number_of_categories\n",
        "\n",
        "cnn_models = nn.ModuleList()\n",
        "\n",
        "cnn_models.extend([CNNA(1, classes) for _ in range(3)])\n",
        "cnn_models.extend([CNNB(1, classes) for _ in range(2)])\n",
        "cnn_models.extend([CNNC(1, classes) for _ in range(3)])\n",
        "cnn_models.extend([CNND(1, classes) for _ in range(1)])\n",
        "cnn_models.extend([CNNE(1, classes) for _ in range(1)])\n",
        "\n",
        "ensemble = Ensemble(cnn_models, device_ids)\n",
        "model = nn.DataParallel(ensemble, device_ids) # parallelizing the entire ensemble model, forward of inputs "
      ],
      "metadata": {
        "id": "VXuVEiyplPkL"
      },
      "execution_count": null,
      "outputs": []
    },
    {
      "cell_type": "markdown",
      "source": [
        "## Model Summary"
      ],
      "metadata": {
        "id": "Wkl0P-mGucne"
      }
    },
    {
      "cell_type": "code",
      "source": [
        "summary(ensemble, input_size=(BATCH_SIZE, 1, IMG_SIZE, IMG_SIZE))"
      ],
      "metadata": {
        "colab": {
          "base_uri": "https://localhost:8080/"
        },
        "id": "1mewr--cucFo",
        "outputId": "18f335bb-689c-407d-f702-70dbb06345e2"
      },
      "execution_count": null,
      "outputs": [
        {
          "output_type": "execute_result",
          "data": {
            "text/plain": [
              "===============================================================================================\n",
              "Layer (type:depth-idx)                        Output Shape              Param #\n",
              "===============================================================================================\n",
              "Ensemble                                      [8, 15]                   --\n",
              "├─DataParallel: 1-1                           --                        --\n",
              "│    └─ModuleList: 2-1                        --                        --\n",
              "│    │    └─CNNA: 3-1                         [8, 15]                   264,455\n",
              "│    │    └─CNNA: 3-2                         [8, 15]                   264,455\n",
              "│    │    └─CNNA: 3-3                         [8, 15]                   264,455\n",
              "│    │    └─CNNB: 3-4                         [8, 15]                   66,411\n",
              "│    │    └─CNNB: 3-5                         [8, 15]                   66,411\n",
              "│    │    └─CNNC: 3-6                         [8, 15]                   1,049,791\n",
              "│    │    └─CNNC: 3-7                         [8, 15]                   1,049,791\n",
              "│    │    └─CNNC: 3-8                         [8, 15]                   1,049,791\n",
              "│    │    └─CNND: 3-9                         [8, 15]                   262,759\n",
              "│    │    └─CNNE: 3-10                        [8, 15]                   1,049,791\n",
              "===============================================================================================\n",
              "Total params: 5,388,110\n",
              "Trainable params: 5,388,110\n",
              "Non-trainable params: 0\n",
              "Total mult-adds (M): 106.77\n",
              "===============================================================================================\n",
              "Input size (MB): 0.13\n",
              "Forward/backward pass size (MB): 62.96\n",
              "Params size (MB): 21.55\n",
              "Estimated Total Size (MB): 84.64\n",
              "==============================================================================================="
            ]
          },
          "metadata": {},
          "execution_count": 110
        }
      ]
    },
    {
      "cell_type": "code",
      "source": [
        "summary(CNNA(1, classes), input_size=(BATCH_SIZE, 1, IMG_SIZE, IMG_SIZE))"
      ],
      "metadata": {
        "colab": {
          "base_uri": "https://localhost:8080/"
        },
        "id": "27_PETl6vV15",
        "outputId": "bd76f60c-d06c-475d-ff37-ca10d60a73ee"
      },
      "execution_count": null,
      "outputs": [
        {
          "output_type": "execute_result",
          "data": {
            "text/plain": [
              "==========================================================================================\n",
              "Layer (type:depth-idx)                   Output Shape              Param #\n",
              "==========================================================================================\n",
              "CNNA                                     [8, 15]                   --\n",
              "├─Conv2d: 1-1                            [8, 8, 64, 64]            72\n",
              "├─BatchNorm2d: 1-2                       [8, 8, 64, 64]            16\n",
              "├─MaxPool2d: 1-3                         [8, 8, 32, 32]            --\n",
              "├─Conv2d: 1-4                            [8, 16, 32, 32]           1,152\n",
              "├─BatchNorm2d: 1-5                       [8, 16, 32, 32]           32\n",
              "├─MaxPool2d: 1-6                         [8, 16, 16, 16]           --\n",
              "├─Linear: 1-7                            [8, 64]                   262,208\n",
              "├─Linear: 1-8                            [8, 15]                   975\n",
              "==========================================================================================\n",
              "Total params: 264,455\n",
              "Trainable params: 264,455\n",
              "Non-trainable params: 0\n",
              "Total mult-adds (M): 13.90\n",
              "==========================================================================================\n",
              "Input size (MB): 0.13\n",
              "Forward/backward pass size (MB): 6.30\n",
              "Params size (MB): 1.06\n",
              "Estimated Total Size (MB): 7.49\n",
              "=========================================================================================="
            ]
          },
          "metadata": {},
          "execution_count": 111
        }
      ]
    },
    {
      "cell_type": "code",
      "source": [
        "summary(CNNB(1, classes), input_size=(BATCH_SIZE, 1, IMG_SIZE, IMG_SIZE))"
      ],
      "metadata": {
        "colab": {
          "base_uri": "https://localhost:8080/"
        },
        "id": "wghHgNq4vDqi",
        "outputId": "c1a1a39d-bf93-4519-8ee5-7c3aa22f94a1"
      },
      "execution_count": null,
      "outputs": [
        {
          "output_type": "execute_result",
          "data": {
            "text/plain": [
              "==========================================================================================\n",
              "Layer (type:depth-idx)                   Output Shape              Param #\n",
              "==========================================================================================\n",
              "CNNB                                     [8, 15]                   --\n",
              "├─Sequential: 1-1                        [8, 8, 16, 16]            --\n",
              "│    └─Conv2d: 2-1                       [8, 4, 64, 64]            36\n",
              "│    └─BatchNorm2d: 2-2                  [8, 4, 64, 64]            8\n",
              "│    └─LeakyReLU: 2-3                    [8, 4, 64, 64]            --\n",
              "│    └─MaxPool2d: 2-4                    [8, 4, 32, 32]            --\n",
              "│    └─Conv2d: 2-5                       [8, 8, 32, 32]            288\n",
              "│    └─BatchNorm2d: 2-6                  [8, 8, 32, 32]            16\n",
              "│    └─LeakyReLU: 2-7                    [8, 8, 32, 32]            --\n",
              "│    └─MaxPool2d: 2-8                    [8, 8, 16, 16]            --\n",
              "├─Sequential: 1-2                        [8, 15]                   --\n",
              "│    └─Linear: 2-9                       [8, 32]                   65,568\n",
              "│    └─Linear: 2-10                      [8, 15]                   495\n",
              "==========================================================================================\n",
              "Total params: 66,411\n",
              "Trainable params: 66,411\n",
              "Non-trainable params: 0\n",
              "Total mult-adds (M): 4.07\n",
              "==========================================================================================\n",
              "Input size (MB): 0.13\n",
              "Forward/backward pass size (MB): 3.15\n",
              "Params size (MB): 0.27\n",
              "Estimated Total Size (MB): 3.55\n",
              "=========================================================================================="
            ]
          },
          "metadata": {},
          "execution_count": 112
        }
      ]
    },
    {
      "cell_type": "code",
      "source": [
        "summary(CNNC(1, classes), input_size=(BATCH_SIZE, 1, IMG_SIZE, IMG_SIZE))"
      ],
      "metadata": {
        "colab": {
          "base_uri": "https://localhost:8080/"
        },
        "id": "eYdy89b7vSIh",
        "outputId": "b6dfbc50-1836-4942-f28f-92d20393ac6f"
      },
      "execution_count": null,
      "outputs": [
        {
          "output_type": "execute_result",
          "data": {
            "text/plain": [
              "==========================================================================================\n",
              "Layer (type:depth-idx)                   Output Shape              Param #\n",
              "==========================================================================================\n",
              "CNNC                                     [8, 15]                   --\n",
              "├─Conv2d: 1-1                            [8, 16, 64, 64]           144\n",
              "├─BatchNorm2d: 1-2                       [8, 16, 64, 64]           32\n",
              "├─MaxPool2d: 1-3                         [8, 16, 32, 32]           --\n",
              "├─Linear: 1-4                            [8, 64]                   1,048,640\n",
              "├─Linear: 1-5                            [8, 15]                   975\n",
              "==========================================================================================\n",
              "Total params: 1,049,791\n",
              "Trainable params: 1,049,791\n",
              "Non-trainable params: 0\n",
              "Total mult-adds (M): 13.12\n",
              "==========================================================================================\n",
              "Input size (MB): 0.13\n",
              "Forward/backward pass size (MB): 8.39\n",
              "Params size (MB): 4.20\n",
              "Estimated Total Size (MB): 12.72\n",
              "=========================================================================================="
            ]
          },
          "metadata": {},
          "execution_count": 113
        }
      ]
    },
    {
      "cell_type": "code",
      "source": [
        "summary(CNND(1, classes), input_size=(BATCH_SIZE, 1, IMG_SIZE, IMG_SIZE))"
      ],
      "metadata": {
        "colab": {
          "base_uri": "https://localhost:8080/"
        },
        "id": "l6fsRtdyvXpz",
        "outputId": "2137ea5d-b6b7-407d-e8c2-efd8a5d2ceb8"
      },
      "execution_count": null,
      "outputs": [
        {
          "output_type": "execute_result",
          "data": {
            "text/plain": [
              "==========================================================================================\n",
              "Layer (type:depth-idx)                   Output Shape              Param #\n",
              "==========================================================================================\n",
              "CNND                                     [8, 15]                   --\n",
              "├─Conv2d: 1-1                            [8, 8, 64, 64]            72\n",
              "├─BatchNorm2d: 1-2                       [8, 8, 64, 64]            16\n",
              "├─AvgPool2d: 1-3                         [8, 8, 32, 32]            --\n",
              "├─Linear: 1-4                            [8, 32]                   262,176\n",
              "├─Linear: 1-5                            [8, 15]                   495\n",
              "==========================================================================================\n",
              "Total params: 262,759\n",
              "Trainable params: 262,759\n",
              "Non-trainable params: 0\n",
              "Total mult-adds (M): 4.46\n",
              "==========================================================================================\n",
              "Input size (MB): 0.13\n",
              "Forward/backward pass size (MB): 4.20\n",
              "Params size (MB): 1.05\n",
              "Estimated Total Size (MB): 5.38\n",
              "=========================================================================================="
            ]
          },
          "metadata": {},
          "execution_count": 114
        }
      ]
    },
    {
      "cell_type": "code",
      "source": [
        "summary(CNNE(1, classes), input_size=(BATCH_SIZE, 1, IMG_SIZE, IMG_SIZE))"
      ],
      "metadata": {
        "colab": {
          "base_uri": "https://localhost:8080/"
        },
        "id": "7PXaudzzvY2p",
        "outputId": "990bd7f9-9181-49b2-941f-df35db4aa952"
      },
      "execution_count": null,
      "outputs": [
        {
          "output_type": "execute_result",
          "data": {
            "text/plain": [
              "==========================================================================================\n",
              "Layer (type:depth-idx)                   Output Shape              Param #\n",
              "==========================================================================================\n",
              "CNNE                                     [8, 15]                   --\n",
              "├─Conv2d: 1-1                            [8, 16, 64, 64]           144\n",
              "├─BatchNorm2d: 1-2                       [8, 16, 64, 64]           32\n",
              "├─AvgPool2d: 1-3                         [8, 16, 32, 32]           --\n",
              "├─Linear: 1-4                            [8, 64]                   1,048,640\n",
              "├─Linear: 1-5                            [8, 15]                   975\n",
              "==========================================================================================\n",
              "Total params: 1,049,791\n",
              "Trainable params: 1,049,791\n",
              "Non-trainable params: 0\n",
              "Total mult-adds (M): 13.12\n",
              "==========================================================================================\n",
              "Input size (MB): 0.13\n",
              "Forward/backward pass size (MB): 8.39\n",
              "Params size (MB): 4.20\n",
              "Estimated Total Size (MB): 12.72\n",
              "=========================================================================================="
            ]
          },
          "metadata": {},
          "execution_count": 115
        }
      ]
    },
    {
      "cell_type": "code",
      "source": [
        "%%time\n",
        "train_losses = []\n",
        "train_accs = []\n",
        "valid_accs = []\n",
        "\n",
        "best_acc = 0.0\n",
        "\n",
        "for epoch in tqdm(range(EPOCHS), desc=None):\n",
        "  model.train()\n",
        "  train_acc = 0.0\n",
        "  train_loss = 0.0\n",
        "  train_size = len(train_loader)\n",
        "  \n",
        "  for i, (images, labels) in enumerate(train_loader):\n",
        "    images, labels = images.to(device), labels.to(device)\n",
        "\n",
        "    model.zero_grad() # backward function accumulates gradients, and we don't want to mix up the gradients between the mini-batches; we 0 them out\n",
        "    outputs = model(images)\n",
        "    loss = ensemble.criterion(outputs, labels)\n",
        "\n",
        "    # after we do a backward, the gradients can be accessed for the computational graph\n",
        "    loss.backward()\n",
        "    # after calculating the loss, we get a scalar so we can call the grad for other tensors, but for any reason if we don't get a scalar, we need to pass a vector to .backward(v) as pytorch uses product of jacobian and the vector to calculate the gradient\n",
        "\n",
        "    # we do a Tensor -= lr * Tensor.grad, Tensor.grad will be the gradient, lr is learning rate\n",
        "    # and finally do, Tensor.grad.zero_()\n",
        "\n",
        "    ensemble.optimizer.step() # update the weights and biases\n",
        "\n",
        "    train_loss += loss.item() / len(labels)\n",
        "    _, prediction = torch.max(outputs.data, 1)\n",
        "\n",
        "    train_acc += int(torch.sum(prediction == labels.data)) / len(labels)\n",
        "\n",
        "  # update the scheduler on every epoch\n",
        "  ensemble.scheduler.step()\n",
        "  \n",
        "  # average accuracy and loss across all mini-batches\n",
        "  train_acc /= train_size\n",
        "  train_loss /= train_size\n",
        "\n",
        "  train_accs.append(train_acc)\n",
        "  train_losses.append(train_loss)\n",
        "\n",
        "  model.eval()\n",
        "\n",
        "  valid_acc = 0.0\n",
        "  valid_loss = 0.0\n",
        "\n",
        "  valid_size = len(valid_loader)\n",
        "  # also if at any time, we want to perform some operations on the weights and not be part of the gradient computation, we use Tensor.requires_grad_(False) or, Tensor.detach() or wrap in a context manager: with torch.no_grad(): or with torch.inference_mode():\n",
        "  with torch.inference_mode():\n",
        "    for images, labels in valid_loader:\n",
        "      images, labels = images.to(device), labels.to(device)\n",
        "\n",
        "      outputs = model(images)\n",
        "      loss = ensemble.criterion(outputs, labels)\n",
        "      \n",
        "      valid_loss += loss.item() / len(labels)\n",
        "      _, prediction = torch.max(outputs.data, 1)\n",
        "\n",
        "      valid_acc += int(torch.sum(prediction == labels.data)) / len(labels)\n",
        "\n",
        "    valid_acc /= valid_size\n",
        "    valid_loss /= valid_size\n",
        "\n",
        "    valid_accs.append(valid_acc)\n",
        "\n",
        "    # save the model\n",
        "    if valid_acc > best_acc:\n",
        "      torch.save(model.state_dict(), 'best_checkpoint.model')\n",
        "      best_acc = valid_acc\n",
        "\n",
        "    print('Train Loss: {:.4f}, Train Acc: {:.4f} | Validation Loss: {:.4f}, Validation Acc: {:.4f}'.format(train_loss, train_acc, valid_loss, valid_acc))"
      ],
      "metadata": {
        "id": "G4fdHVvfAI8e",
        "colab": {
          "base_uri": "https://localhost:8080/",
          "height": 656,
          "referenced_widgets": [
            "43ff1d0c2d4d4b879ffe67bb7c28acd9",
            "788a9a93434a4cb1b9f3ee962c4c45df",
            "a3942658277b4b35b887e808a276588a",
            "c46e45ab4ee0462b960a2e9a72be08d7",
            "86082646ff744818b22a8fd9f26803a1",
            "d77f45cc6ca442faa4a3615d2cc8694f",
            "1a2c70a66989492da7392ddb9060243d",
            "f8819601237a458491c7a90ec03e0948",
            "7920e76b0158422fb44f46ac0a8e403d",
            "9d58a1db77c04b5e9cd24d54c09830b3",
            "782383ebf1834a7e81c46f380f1c37dd"
          ]
        },
        "outputId": "8a5be3b8-e71c-47fa-bbca-de05e29514fc"
      },
      "execution_count": null,
      "outputs": [
        {
          "output_type": "display_data",
          "data": {
            "text/plain": [
              "  0%|          | 0/32 [00:00<?, ?it/s]"
            ],
            "application/vnd.jupyter.widget-view+json": {
              "version_major": 2,
              "version_minor": 0,
              "model_id": "43ff1d0c2d4d4b879ffe67bb7c28acd9"
            }
          },
          "metadata": {}
        },
        {
          "output_type": "stream",
          "name": "stdout",
          "text": [
            "Train Loss: 0.6062, Train Acc: 0.1094 | Validation Loss: 1.2545, Validation Acc: 0.1250\n",
            "Train Loss: 0.4104, Train Acc: 0.1562 | Validation Loss: 0.7284, Validation Acc: 0.1500\n",
            "Train Loss: 0.3038, Train Acc: 0.2891 | Validation Loss: 1.2012, Validation Acc: 0.2250\n",
            "Train Loss: 0.3311, Train Acc: 0.2422 | Validation Loss: 0.6276, Validation Acc: 0.2750\n",
            "Train Loss: 0.2667, Train Acc: 0.3594 | Validation Loss: 1.2285, Validation Acc: 0.2000\n",
            "Train Loss: 0.2606, Train Acc: 0.3906 | Validation Loss: 1.1261, Validation Acc: 0.2250\n",
            "Train Loss: 0.2246, Train Acc: 0.4922 | Validation Loss: 0.6438, Validation Acc: 0.1500\n",
            "Train Loss: 0.2904, Train Acc: 0.3516 | Validation Loss: 0.3451, Validation Acc: 0.5750\n",
            "Train Loss: 0.2476, Train Acc: 0.4453 | Validation Loss: 0.4756, Validation Acc: 0.2750\n",
            "Train Loss: 0.2511, Train Acc: 0.4062 | Validation Loss: 0.3897, Validation Acc: 0.5250\n",
            "Train Loss: 0.2126, Train Acc: 0.4922 | Validation Loss: 1.6050, Validation Acc: 0.4250\n",
            "Train Loss: 0.1903, Train Acc: 0.6016 | Validation Loss: 0.5240, Validation Acc: 0.5000\n",
            "Train Loss: 0.2126, Train Acc: 0.5156 | Validation Loss: 0.2153, Validation Acc: 0.6000\n",
            "Train Loss: 0.2126, Train Acc: 0.5625 | Validation Loss: 0.1967, Validation Acc: 0.5750\n",
            "Train Loss: 0.1742, Train Acc: 0.6250 | Validation Loss: 0.5269, Validation Acc: 0.4500\n",
            "Train Loss: 0.1944, Train Acc: 0.5781 | Validation Loss: 0.7841, Validation Acc: 0.4000\n",
            "Train Loss: 0.1553, Train Acc: 0.6484 | Validation Loss: 0.5565, Validation Acc: 0.6000\n",
            "Train Loss: 0.1656, Train Acc: 0.6250 | Validation Loss: 0.4531, Validation Acc: 0.5500\n",
            "Train Loss: 0.1404, Train Acc: 0.6875 | Validation Loss: 0.4573, Validation Acc: 0.5500\n",
            "Train Loss: 0.1331, Train Acc: 0.7031 | Validation Loss: 0.5347, Validation Acc: 0.4250\n",
            "Train Loss: 0.1504, Train Acc: 0.6953 | Validation Loss: 0.6817, Validation Acc: 0.4000\n",
            "Train Loss: 0.1351, Train Acc: 0.6875 | Validation Loss: 0.2412, Validation Acc: 0.6000\n",
            "Train Loss: 0.1256, Train Acc: 0.7266 | Validation Loss: 0.1663, Validation Acc: 0.5750\n",
            "Train Loss: 0.1186, Train Acc: 0.7266 | Validation Loss: 0.6455, Validation Acc: 0.5000\n",
            "Train Loss: 0.1231, Train Acc: 0.7266 | Validation Loss: 0.4317, Validation Acc: 0.6250\n",
            "Train Loss: 0.1574, Train Acc: 0.6406 | Validation Loss: 0.1470, Validation Acc: 0.7000\n",
            "Train Loss: 0.1413, Train Acc: 0.6797 | Validation Loss: 0.4933, Validation Acc: 0.4250\n",
            "Train Loss: 0.1504, Train Acc: 0.6250 | Validation Loss: 0.8693, Validation Acc: 0.5250\n",
            "Train Loss: 0.1304, Train Acc: 0.7344 | Validation Loss: 0.1699, Validation Acc: 0.6000\n",
            "Train Loss: 0.1556, Train Acc: 0.6641 | Validation Loss: 0.2311, Validation Acc: 0.5750\n",
            "Train Loss: 0.1396, Train Acc: 0.6797 | Validation Loss: 0.7920, Validation Acc: 0.4000\n",
            "Train Loss: 0.1489, Train Acc: 0.6719 | Validation Loss: 0.1957, Validation Acc: 0.6500\n",
            "CPU times: user 18.2 s, sys: 5.89 s, total: 24.1 s\n",
            "Wall time: 36.4 s\n"
          ]
        }
      ]
    },
    {
      "cell_type": "code",
      "source": [
        "print(f'Best Accuracy: {best_acc:.4f}')"
      ],
      "metadata": {
        "id": "S_FMbwUUxntU",
        "colab": {
          "base_uri": "https://localhost:8080/"
        },
        "outputId": "36471199-6c08-421c-d1bc-465313a4f16d"
      },
      "execution_count": null,
      "outputs": [
        {
          "output_type": "stream",
          "name": "stdout",
          "text": [
            "Best Accuracy: 0.7000\n"
          ]
        }
      ]
    },
    {
      "cell_type": "markdown",
      "source": [
        "# Metrics"
      ],
      "metadata": {
        "id": "-PLLDswEmQPo"
      }
    },
    {
      "cell_type": "code",
      "source": [
        "plt.rcParams[\"figure.figsize\"] = (20, 5)"
      ],
      "metadata": {
        "id": "5hjxJiywoCon"
      },
      "execution_count": null,
      "outputs": []
    },
    {
      "cell_type": "markdown",
      "source": [
        "## Training Metrics"
      ],
      "metadata": {
        "id": "z7inaFlQnQiw"
      }
    },
    {
      "cell_type": "markdown",
      "source": [
        "### Training Loss"
      ],
      "metadata": {
        "id": "fKBsm_51oIg2"
      }
    },
    {
      "cell_type": "code",
      "source": [
        "plt.plot(train_losses)\n",
        "plt.xlabel(\"Epoch\")\n",
        "plt.ylabel(\"Loss\")\n",
        "plt.show()"
      ],
      "metadata": {
        "id": "KWYGLaoDA0Dd",
        "colab": {
          "base_uri": "https://localhost:8080/",
          "height": 251
        },
        "outputId": "643736cc-83a9-4edb-8d94-3439d26fa169"
      },
      "execution_count": null,
      "outputs": [
        {
          "output_type": "display_data",
          "data": {
            "text/plain": [
              "<Figure size 1440x360 with 1 Axes>"
            ],
            "image/png": "[encoded data removed]"
          },
          "metadata": {}
        }
      ]
    },
    {
      "cell_type": "markdown",
      "source": [
        "### Training Accuracy"
      ],
      "metadata": {
        "id": "SwRMLdi4oOmk"
      }
    },
    {
      "cell_type": "code",
      "source": [
        "plt.plot(train_accs)\n",
        "plt.xlabel(\"Epoch\")\n",
        "plt.ylabel(\"Accuracy\")\n",
        "plt.show()"
      ],
      "metadata": {
        "id": "Mt1sKS_qoNRg",
        "colab": {
          "base_uri": "https://localhost:8080/",
          "height": 251
        },
        "outputId": "30ef21ff-aee0-4e2c-a57e-ac7fe4be7ff6"
      },
      "execution_count": null,
      "outputs": [
        {
          "output_type": "display_data",
          "data": {
            "text/plain": [
              "<Figure size 1440x360 with 1 Axes>"
            ],
            "image/png": "[encoded data removed]"
          },
          "metadata": {}
        }
      ]
    },
    {
      "cell_type": "markdown",
      "source": [
        "## Validation Metrics"
      ],
      "metadata": {
        "id": "mnsHOoSrnT1X"
      }
    },
    {
      "cell_type": "markdown",
      "source": [
        "### Validation Accuracy"
      ],
      "metadata": {
        "id": "FFuk5u4NoVXZ"
      }
    },
    {
      "cell_type": "code",
      "source": [
        "plt.plot(valid_accs)\n",
        "plt.xlabel(\"Epoch\")\n",
        "plt.ylabel(\"Accuracy\")\n",
        "plt.show()"
      ],
      "metadata": {
        "id": "BueB_0zFnVjt",
        "colab": {
          "base_uri": "https://localhost:8080/",
          "height": 251
        },
        "outputId": "d4b6167b-efc2-4306-9654-c345e83146ec"
      },
      "execution_count": null,
      "outputs": [
        {
          "output_type": "display_data",
          "data": {
            "text/plain": [
              "<Figure size 1440x360 with 1 Axes>"
            ],
            "image/png": "[encoded data removed]"
          },
          "metadata": {}
        }
      ]
    },
    {
      "cell_type": "markdown",
      "source": [
        "# Cleanup"
      ],
      "metadata": {
        "id": "y0NSgdGuoZXm"
      }
    },
    {
      "cell_type": "code",
      "source": [
        "# clear the GPUs\n",
        "torch.cuda.empty_cache()"
      ],
      "metadata": {
        "id": "TvT-SX-Rnybw"
      },
      "execution_count": null,
      "outputs": []
    },
    {
      "cell_type": "markdown",
      "source": [
        "# Visualize the convolution layer image"
      ],
      "metadata": {
        "id": "_CYdwVgq_pc_"
      }
    },
    {
      "cell_type": "code",
      "source": [
        "import numpy as np\n",
        "import matplotlib.pyplot as plt\n",
        "from torchvision import utils\n",
        "\n",
        "def visTensor(tensor, ch=0, allkernels=False, nrow=8, padding=1): \n",
        "    n,c,w,h = tensor.shape\n",
        "\n",
        "    if allkernels: tensor = tensor.view(n*c, -1, w, h)\n",
        "    elif c != 3: tensor = tensor[:,ch,:,:].unsqueeze(dim=1)\n",
        "\n",
        "    rows = np.min((tensor.shape[0] // nrow + 1, 64))    \n",
        "    grid = utils.make_grid(tensor, nrow=nrow, normalize=True, padding=padding)\n",
        "    plt.figure( figsize=(nrow,rows) )\n",
        "    plt.imshow(grid.cpu().numpy().transpose((1, 2, 0)))\n",
        "\n",
        "\n",
        "if __name__ == \"__main__\":\n",
        "    layer = 1\n",
        "    filter = ensemble.models[0].conv1.weight.data.clone()\n",
        "    visTensor(filter, ch=0, allkernels=False)\n",
        "\n",
        "    plt.axis('off')\n",
        "    plt.ioff()\n",
        "    plt.show()"
      ],
      "metadata": {
        "id": "C0DImML3_owi",
        "colab": {
          "base_uri": "https://localhost:8080/",
          "height": 99
        },
        "outputId": "2b80bbf8-e477-4b7c-d3a7-69b923e6ec9d"
      },
      "execution_count": null,
      "outputs": [
        {
          "output_type": "display_data",
          "data": {
            "text/plain": [
              "<Figure size 576x144 with 1 Axes>"
            ],
            "image/png": "[encoded data removed]"
          },
          "metadata": {}
        }
      ]
    }
  ],
  "metadata": {
    "colab": {
      "provenance": []
    },
    "kernelspec": {
      "display_name": "Python 3",
      "name": "python3"
    },
    "language_info": {
      "name": "python"
    },
    "gpuClass": "standard",
    "accelerator": "GPU",
    "widgets": {
      "application/vnd.jupyter.widget-state+json": {
        "43ff1d0c2d4d4b879ffe67bb7c28acd9": {
          "model_module": "@jupyter-widgets/controls",
          "model_name": "HBoxModel",
          "model_module_version": "1.5.0",
          "state": {
            "_dom_classes": [],
            "_model_module": "@jupyter-widgets/controls",
            "_model_module_version": "1.5.0",
            "_model_name": "HBoxModel",
            "_view_count": null,
            "_view_module": "@jupyter-widgets/controls",
            "_view_module_version": "1.5.0",
            "_view_name": "HBoxView",
            "box_style": "",
            "children": [
              "IPY_MODEL_788a9a93434a4cb1b9f3ee962c4c45df",
              "IPY_MODEL_a3942658277b4b35b887e808a276588a",
              "IPY_MODEL_c46e45ab4ee0462b960a2e9a72be08d7"
            ],
            "layout": "IPY_MODEL_86082646ff744818b22a8fd9f26803a1"
          }
        },
        "788a9a93434a4cb1b9f3ee962c4c45df": {
          "model_module": "@jupyter-widgets/controls",
          "model_name": "HTMLModel",
          "model_module_version": "1.5.0",
          "state": {
            "_dom_classes": [],
            "_model_module": "@jupyter-widgets/controls",
            "_model_module_version": "1.5.0",
            "_model_name": "HTMLModel",
            "_view_count": null,
            "_view_module": "@jupyter-widgets/controls",
            "_view_module_version": "1.5.0",
            "_view_name": "HTMLView",
            "description": "",
            "description_tooltip": null,
            "layout": "IPY_MODEL_d77f45cc6ca442faa4a3615d2cc8694f",
            "placeholder": "​",
            "style": "IPY_MODEL_1a2c70a66989492da7392ddb9060243d",
            "value": "100%"
          }
        },
        "a3942658277b4b35b887e808a276588a": {
          "model_module": "@jupyter-widgets/controls",
          "model_name": "FloatProgressModel",
          "model_module_version": "1.5.0",
          "state": {
            "_dom_classes": [],
            "_model_module": "@jupyter-widgets/controls",
            "_model_module_version": "1.5.0",
            "_model_name": "FloatProgressModel",
            "_view_count": null,
            "_view_module": "@jupyter-widgets/controls",
            "_view_module_version": "1.5.0",
            "_view_name": "ProgressView",
            "bar_style": "success",
            "description": "",
            "description_tooltip": null,
            "layout": "IPY_MODEL_f8819601237a458491c7a90ec03e0948",
            "max": 32,
            "min": 0,
            "orientation": "horizontal",
            "style": "IPY_MODEL_7920e76b0158422fb44f46ac0a8e403d",
            "value": 32
          }
        },
        "c46e45ab4ee0462b960a2e9a72be08d7": {
          "model_module": "@jupyter-widgets/controls",
          "model_name": "HTMLModel",
          "model_module_version": "1.5.0",
          "state": {
            "_dom_classes": [],
            "_model_module": "@jupyter-widgets/controls",
            "_model_module_version": "1.5.0",
            "_model_name": "HTMLModel",
            "_view_count": null,
            "_view_module": "@jupyter-widgets/controls",
            "_view_module_version": "1.5.0",
            "_view_name": "HTMLView",
            "description": "",
            "description_tooltip": null,
            "layout": "IPY_MODEL_9d58a1db77c04b5e9cd24d54c09830b3",
            "placeholder": "​",
            "style": "IPY_MODEL_782383ebf1834a7e81c46f380f1c37dd",
            "value": " 32/32 [00:36&lt;00:00,  1.11s/it]"
          }
        },
        "86082646ff744818b22a8fd9f26803a1": {
          "model_module": "@jupyter-widgets/base",
          "model_name": "LayoutModel",
          "model_module_version": "1.2.0",
          "state": {
            "_model_module": "@jupyter-widgets/base",
            "_model_module_version": "1.2.0",
            "_model_name": "LayoutModel",
            "_view_count": null,
            "_view_module": "@jupyter-widgets/base",
            "_view_module_version": "1.2.0",
            "_view_name": "LayoutView",
            "align_content": null,
            "align_items": null,
            "align_self": null,
            "border": null,
            "bottom": null,
            "display": null,
            "flex": null,
            "flex_flow": null,
            "grid_area": null,
            "grid_auto_columns": null,
            "grid_auto_flow": null,
            "grid_auto_rows": null,
            "grid_column": null,
            "grid_gap": null,
            "grid_row": null,
            "grid_template_areas": null,
            "grid_template_columns": null,
            "grid_template_rows": null,
            "height": null,
            "justify_content": null,
            "justify_items": null,
            "left": null,
            "margin": null,
            "max_height": null,
            "max_width": null,
            "min_height": null,
            "min_width": null,
            "object_fit": null,
            "object_position": null,
            "order": null,
            "overflow": null,
            "overflow_x": null,
            "overflow_y": null,
            "padding": null,
            "right": null,
            "top": null,
            "visibility": null,
            "width": null
          }
        },
        "d77f45cc6ca442faa4a3615d2cc8694f": {
          "model_module": "@jupyter-widgets/base",
          "model_name": "LayoutModel",
          "model_module_version": "1.2.0",
          "state": {
            "_model_module": "@jupyter-widgets/base",
            "_model_module_version": "1.2.0",
            "_model_name": "LayoutModel",
            "_view_count": null,
            "_view_module": "@jupyter-widgets/base",
            "_view_module_version": "1.2.0",
            "_view_name": "LayoutView",
            "align_content": null,
            "align_items": null,
            "align_self": null,
            "border": null,
            "bottom": null,
            "display": null,
            "flex": null,
            "flex_flow": null,
            "grid_area": null,
            "grid_auto_columns": null,
            "grid_auto_flow": null,
            "grid_auto_rows": null,
            "grid_column": null,
            "grid_gap": null,
            "grid_row": null,
            "grid_template_areas": null,
            "grid_template_columns": null,
            "grid_template_rows": null,
            "height": null,
            "justify_content": null,
            "justify_items": null,
            "left": null,
            "margin": null,
            "max_height": null,
            "max_width": null,
            "min_height": null,
            "min_width": null,
            "object_fit": null,
            "object_position": null,
            "order": null,
            "overflow": null,
            "overflow_x": null,
            "overflow_y": null,
            "padding": null,
            "right": null,
            "top": null,
            "visibility": null,
            "width": null
          }
        },
        "1a2c70a66989492da7392ddb9060243d": {
          "model_module": "@jupyter-widgets/controls",
          "model_name": "DescriptionStyleModel",
          "model_module_version": "1.5.0",
          "state": {
            "_model_module": "@jupyter-widgets/controls",
            "_model_module_version": "1.5.0",
            "_model_name": "DescriptionStyleModel",
            "_view_count": null,
            "_view_module": "@jupyter-widgets/base",
            "_view_module_version": "1.2.0",
            "_view_name": "StyleView",
            "description_width": ""
          }
        },
        "f8819601237a458491c7a90ec03e0948": {
          "model_module": "@jupyter-widgets/base",
          "model_name": "LayoutModel",
          "model_module_version": "1.2.0",
          "state": {
            "_model_module": "@jupyter-widgets/base",
            "_model_module_version": "1.2.0",
            "_model_name": "LayoutModel",
            "_view_count": null,
            "_view_module": "@jupyter-widgets/base",
            "_view_module_version": "1.2.0",
            "_view_name": "LayoutView",
            "align_content": null,
            "align_items": null,
            "align_self": null,
            "border": null,
            "bottom": null,
            "display": null,
            "flex": null,
            "flex_flow": null,
            "grid_area": null,
            "grid_auto_columns": null,
            "grid_auto_flow": null,
            "grid_auto_rows": null,
            "grid_column": null,
            "grid_gap": null,
            "grid_row": null,
            "grid_template_areas": null,
            "grid_template_columns": null,
            "grid_template_rows": null,
            "height": null,
            "justify_content": null,
            "justify_items": null,
            "left": null,
            "margin": null,
            "max_height": null,
            "max_width": null,
            "min_height": null,
            "min_width": null,
            "object_fit": null,
            "object_position": null,
            "order": null,
            "overflow": null,
            "overflow_x": null,
            "overflow_y": null,
            "padding": null,
            "right": null,
            "top": null,
            "visibility": null,
            "width": null
          }
        },
        "7920e76b0158422fb44f46ac0a8e403d": {
          "model_module": "@jupyter-widgets/controls",
          "model_name": "ProgressStyleModel",
          "model_module_version": "1.5.0",
          "state": {
            "_model_module": "@jupyter-widgets/controls",
            "_model_module_version": "1.5.0",
            "_model_name": "ProgressStyleModel",
            "_view_count": null,
            "_view_module": "@jupyter-widgets/base",
            "_view_module_version": "1.2.0",
            "_view_name": "StyleView",
            "bar_color": null,
            "description_width": ""
          }
        },
        "9d58a1db77c04b5e9cd24d54c09830b3": {
          "model_module": "@jupyter-widgets/base",
          "model_name": "LayoutModel",
          "model_module_version": "1.2.0",
          "state": {
            "_model_module": "@jupyter-widgets/base",
            "_model_module_version": "1.2.0",
            "_model_name": "LayoutModel",
            "_view_count": null,
            "_view_module": "@jupyter-widgets/base",
            "_view_module_version": "1.2.0",
            "_view_name": "LayoutView",
            "align_content": null,
            "align_items": null,
            "align_self": null,
            "border": null,
            "bottom": null,
            "display": null,
            "flex": null,
            "flex_flow": null,
            "grid_area": null,
            "grid_auto_columns": null,
            "grid_auto_flow": null,
            "grid_auto_rows": null,
            "grid_column": null,
            "grid_gap": null,
            "grid_row": null,
            "grid_template_areas": null,
            "grid_template_columns": null,
            "grid_template_rows": null,
            "height": null,
            "justify_content": null,
            "justify_items": null,
            "left": null,
            "margin": null,
            "max_height": null,
            "max_width": null,
            "min_height": null,
            "min_width": null,
            "object_fit": null,
            "object_position": null,
            "order": null,
            "overflow": null,
            "overflow_x": null,
            "overflow_y": null,
            "padding": null,
            "right": null,
            "top": null,
            "visibility": null,
            "width": null
          }
        },
        "782383ebf1834a7e81c46f380f1c37dd": {
          "model_module": "@jupyter-widgets/controls",
          "model_name": "DescriptionStyleModel",
          "model_module_version": "1.5.0",
          "state": {
            "_model_module": "@jupyter-widgets/controls",
            "_model_module_version": "1.5.0",
            "_model_name": "DescriptionStyleModel",
            "_view_count": null,
            "_view_module": "@jupyter-widgets/base",
            "_view_module_version": "1.2.0",
            "_view_name": "StyleView",
            "description_width": ""
          }
        }
      }
    }
  },
  "nbformat": 4,
  "nbformat_minor": 0
}