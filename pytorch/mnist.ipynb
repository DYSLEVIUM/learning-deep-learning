{
  "cells": [
    {
      "cell_type": "code",
      "source": [
        "!pip install torch torchvision Pillow tqdm torchinfo"
      ],
      "metadata": {
        "colab": {
          "base_uri": "https://localhost:8080/"
        },
        "id": "ARsOHoFz0r4C",
        "outputId": "ea3d0e9c-dcd9-4a6e-d855-a6428540284f"
      },
      "execution_count": 7,
      "outputs": [
        {
          "output_type": "stream",
          "name": "stdout",
          "text": [
            "Looking in indexes: https://pypi.org/simple, https://us-python.pkg.dev/colab-wheels/public/simple/\n",
            "Requirement already satisfied: torch in /usr/local/lib/python3.8/dist-packages (1.13.0+cu116)\n",
            "Requirement already satisfied: torchvision in /usr/local/lib/python3.8/dist-packages (0.14.0+cu116)\n",
            "Requirement already satisfied: Pillow in /usr/local/lib/python3.8/dist-packages (7.1.2)\n",
            "Requirement already satisfied: tqdm in /usr/local/lib/python3.8/dist-packages (4.64.1)\n",
            "Requirement already satisfied: torchinfo in /usr/local/lib/python3.8/dist-packages (1.7.1)\n",
            "Requirement already satisfied: typing-extensions in /usr/local/lib/python3.8/dist-packages (from torch) (4.4.0)\n",
            "Requirement already satisfied: numpy in /usr/local/lib/python3.8/dist-packages (from torchvision) (1.21.6)\n",
            "Requirement already satisfied: requests in /usr/local/lib/python3.8/dist-packages (from torchvision) (2.23.0)\n",
            "Requirement already satisfied: idna<3,>=2.5 in /usr/local/lib/python3.8/dist-packages (from requests->torchvision) (2.10)\n",
            "Requirement already satisfied: certifi>=2017.4.17 in /usr/local/lib/python3.8/dist-packages (from requests->torchvision) (2022.12.7)\n",
            "Requirement already satisfied: chardet<4,>=3.0.2 in /usr/local/lib/python3.8/dist-packages (from requests->torchvision) (3.0.4)\n",
            "Requirement already satisfied: urllib3!=1.25.0,!=1.25.1,<1.26,>=1.21.1 in /usr/local/lib/python3.8/dist-packages (from requests->torchvision) (1.24.3)\n"
          ]
        }
      ]
    },
    {
      "cell_type": "code",
      "execution_count": 8,
      "metadata": {
        "id": "s7qQa_6h7N0M"
      },
      "outputs": [],
      "source": [
        "import os\n",
        "\n",
        "import matplotlib.pyplot as plt\n",
        "import numpy as np\n",
        "import seaborn as sns\n",
        "\n",
        "import torch\n",
        "import torch.nn as nn\n",
        "import torch.nn.functional as F\n",
        "import torch.optim as optim\n",
        "\n",
        "import torchvision\n",
        "import torchvision.transforms as transforms\n",
        "from torch.autograd import Variable\n",
        "from torch.utils.data import DataLoader, Dataset, TensorDataset, random_split\n",
        "from torchvision.utils import make_grid\n",
        "\n",
        "from tqdm.auto import tqdm\n",
        "from torchinfo import summary\n",
        "\n",
        "%matplotlib inline\n",
        "sns.set()"
      ]
    },
    {
      "cell_type": "code",
      "execution_count": 9,
      "metadata": {
        "id": "6yHBv7BO7N0P"
      },
      "outputs": [],
      "source": [
        "train_transform = transforms.Compose([\n",
        "    transforms.RandomRotation(degrees=30),\n",
        "    transforms.RandomAffine(degrees=0, translate=(0.3, 0.3)),\n",
        "    transforms.RandomAffine(degrees=0, scale=(0.5, 1)),\n",
        "    transforms.RandomAffine(degrees=0, shear=(-10, 10, -10, 10)),\n",
        "    transforms.ToTensor(),\n",
        "    transforms.Normalize(0.1307, 0.3081) # mean and std of mnist dataset\n",
        "])\n",
        "\n",
        "test_transform = transforms.Compose([\n",
        "    transforms.ToTensor(),\n",
        "    transforms.Normalize(0.1307, 0.3081)\n",
        "])"
      ]
    },
    {
      "cell_type": "code",
      "execution_count": 10,
      "metadata": {
        "id": "jqfKO3zG7N0R"
      },
      "outputs": [],
      "source": [
        "train_dataset = torchvision.datasets.MNIST(root='./dataset', train=True, download=True, transform=train_transform)\n",
        "test_dataset = torchvision.datasets.MNIST(root='./dataset', train=False, transform=test_transform)"
      ]
    },
    {
      "cell_type": "code",
      "execution_count": 11,
      "metadata": {
        "colab": {
          "base_uri": "https://localhost:8080/",
          "height": 150
        },
        "id": "gIOeaQPp7N0S",
        "outputId": "6ae0969a-be2c-4da1-bec0-23bce4228b1b"
      },
      "outputs": [
        {
          "output_type": "stream",
          "name": "stderr",
          "text": [
            "WARNING:matplotlib.image:Clipping input data to the valid range for imshow with RGB data ([0..1] for floats or [0..255] for integers).\n"
          ]
        },
        {
          "output_type": "display_data",
          "data": {
            "text/plain": [
              "<Figure size 2160x720 with 1 Axes>"
            ],
            "image/png": "[encoded data removed]"
          },
          "metadata": {}
        }
      ],
      "source": [
        "# Get the first 10 training examples and their labels\n",
        "images, labels = zip(*[train_dataset[i] for i in range(10)])\n",
        "\n",
        "# Convert the images to a tensor\n",
        "images = torch.stack(images)\n",
        "\n",
        "fig, ax = plt.subplots(figsize=(30, 10))\n",
        "\n",
        "# Use make_grid to create a grid of images\n",
        "grid = torchvision.utils.make_grid(images, nrow=10, )\n",
        "\n",
        "# Convert the grid to a NumPy array and plot it\n",
        "plt.imshow(grid.numpy().transpose((1, 2, 0)))\n",
        "\n",
        "plt.axis('off')\n",
        "plt.show()"
      ]
    },
    {
      "cell_type": "code",
      "execution_count": 12,
      "metadata": {
        "id": "bOpQ2Xh87N0T"
      },
      "outputs": [],
      "source": [
        "train_loader = DataLoader(train_dataset, batch_size=64, shuffle=True, num_workers=os.cpu_count(), pin_memory=True, drop_last=True)\n",
        "test_loader = DataLoader(test_dataset, batch_size=64, shuffle=False, num_workers=os.cpu_count(), pin_memory=True)"
      ]
    },
    {
      "cell_type": "code",
      "execution_count": 13,
      "metadata": {
        "colab": {
          "base_uri": "https://localhost:8080/"
        },
        "id": "eSA8EFUL7N0U",
        "outputId": "3508795a-e872-4ae4-bfa6-8064f073ac82"
      },
      "outputs": [
        {
          "output_type": "execute_result",
          "data": {
            "text/plain": [
              "device(type='cuda')"
            ]
          },
          "metadata": {},
          "execution_count": 13
        }
      ],
      "source": [
        "device = torch.device('cuda' if torch.cuda.is_available() else 'cpu')\n",
        "\n",
        "# clear the GPUs\n",
        "torch.cuda.empty_cache()\n",
        "\n",
        "device"
      ]
    },
    {
      "cell_type": "code",
      "execution_count": 14,
      "metadata": {
        "id": "hTRWAKe37N0V"
      },
      "outputs": [],
      "source": [
        "# class CNN(nn.Module):\n",
        "#   def __init__(self, classes):\n",
        "#     super(CNN, self).__init__()\n",
        "#     self.conv1 = nn.Sequential(\n",
        "#         nn.Conv2d(in_channels=1, out_channels=32, kernel_size=3, stride=1, padding=1),\n",
        "#         nn.BatchNorm2d(32),\n",
        "#         nn.MaxPool2d(kernel_size=(2, 2), stride=2),\n",
        "#         nn.LeakyReLU(0.01)\n",
        "#     )\n",
        "\n",
        "#     self.conv2 = nn.Sequential(\n",
        "#         nn.Conv2d(in_channels=32, out_channels=64, kernel_size=3, stride=1, padding=1),\n",
        "#         nn.BatchNorm2d(64),\n",
        "#         nn.MaxPool2d(kernel_size=2, stride=2),\n",
        "#         nn.LeakyReLU(0.01)\n",
        "#     )\n",
        "\n",
        "#     self.classifier = nn.Sequential(\n",
        "#         nn.Linear(in_features=64 * 7 * 7, out_features=64),\n",
        "#         nn.LeakyReLU(0.01),\n",
        "#         nn.Linear(in_features=64, out_features=classes),\n",
        "#     )\n",
        "\n",
        "#   def forward(self, x):\n",
        "#     x = self.conv1(x)\n",
        "#     x = self.conv2(x)\n",
        "\n",
        "#     x = torch.flatten(x, 1)\n",
        "\n",
        "#     x = self.classifier(x)\n",
        "#     return x"
      ]
    },
    {
      "cell_type": "code",
      "source": [
        "class CNN(nn.Module):\n",
        "  def __init__(self, classes):\n",
        "    super(CNN, self).__init__()\n",
        "    self.conv1 = nn.Sequential(\n",
        "        nn.Conv2d(in_channels=1, out_channels=32, kernel_size=16, stride=1, padding=1),\n",
        "        nn.BatchNorm2d(32),\n",
        "        nn.MaxPool2d(kernel_size=(2, 2), stride=2),\n",
        "        nn.LeakyReLU(0.01)\n",
        "    )\n",
        "\n",
        "    self.conv2 = nn.Sequential(\n",
        "        nn.Conv2d(in_channels=32, out_channels=64, kernel_size=8, stride=1, padding=1),\n",
        "        nn.BatchNorm2d(64),\n",
        "        nn.MaxPool2d(kernel_size=2, stride=2),\n",
        "        nn.LeakyReLU(0.01)\n",
        "    )\n",
        "\n",
        "    self.classifier = nn.Sequential(\n",
        "        nn.Linear(in_features=64 * 1 * 1, out_features=64),\n",
        "        nn.LeakyReLU(0.01),\n",
        "        nn.Linear(in_features=64, out_features=classes),\n",
        "    )\n",
        "\n",
        "  def forward(self, x):\n",
        "    x = self.conv1(x)\n",
        "    x = self.conv2(x)\n",
        "\n",
        "    x = torch.flatten(x, 1)\n",
        "\n",
        "    x = self.classifier(x)\n",
        "    return x"
      ],
      "metadata": {
        "id": "YsK5inTLMUn6"
      },
      "execution_count": 15,
      "outputs": []
    },
    {
      "cell_type": "code",
      "execution_count": 16,
      "metadata": {
        "id": "xZn2LaVY7N0V"
      },
      "outputs": [],
      "source": [
        "model = CNN(10).to(device)\n",
        "criterion = nn.CrossEntropyLoss()\n",
        "optimizer = optim.SGD(model.parameters(), lr=0.1, weight_decay=0.001, momentum=0.3)\n",
        "scheduler = optim.lr_scheduler.StepLR(optimizer, step_size=4, gamma=0.1)"
      ]
    },
    {
      "cell_type": "code",
      "source": [
        "summary(model=model, input_size=[128, 1, 28, 28], device=device, col_names=[\"input_size\", \"output_size\", \"num_params\", \"kernel_size\", \"trainable\"], depth=10)"
      ],
      "metadata": {
        "colab": {
          "base_uri": "https://localhost:8080/"
        },
        "id": "6FU7QXA-1Pr7",
        "outputId": "8ff8cded-81c9-407f-a698-4af0bbba27fe"
      },
      "execution_count": 17,
      "outputs": [
        {
          "output_type": "execute_result",
          "data": {
            "text/plain": [
              "=====================================================================================================================================================================\n",
              "Layer (type:depth-idx)                   Input Shape               Output Shape              Param #                   Kernel Shape              Trainable\n",
              "=====================================================================================================================================================================\n",
              "CNN                                      [128, 1, 28, 28]          [128, 10]                 --                        --                        True\n",
              "├─Sequential: 1-1                        [128, 1, 28, 28]          [128, 32, 7, 7]           --                        --                        True\n",
              "│    └─Conv2d: 2-1                       [128, 1, 28, 28]          [128, 32, 15, 15]         8,224                     [16, 16]                  True\n",
              "│    └─BatchNorm2d: 2-2                  [128, 32, 15, 15]         [128, 32, 15, 15]         64                        --                        True\n",
              "│    └─MaxPool2d: 2-3                    [128, 32, 15, 15]         [128, 32, 7, 7]           --                        [2, 2]                    --\n",
              "│    └─LeakyReLU: 2-4                    [128, 32, 7, 7]           [128, 32, 7, 7]           --                        --                        --\n",
              "├─Sequential: 1-2                        [128, 32, 7, 7]           [128, 64, 1, 1]           --                        --                        True\n",
              "│    └─Conv2d: 2-5                       [128, 32, 7, 7]           [128, 64, 2, 2]           131,136                   [8, 8]                    True\n",
              "│    └─BatchNorm2d: 2-6                  [128, 64, 2, 2]           [128, 64, 2, 2]           128                       --                        True\n",
              "│    └─MaxPool2d: 2-7                    [128, 64, 2, 2]           [128, 64, 1, 1]           --                        2                         --\n",
              "│    └─LeakyReLU: 2-8                    [128, 64, 1, 1]           [128, 64, 1, 1]           --                        --                        --\n",
              "├─Sequential: 1-3                        [128, 64]                 [128, 10]                 --                        --                        True\n",
              "│    └─Linear: 2-9                       [128, 64]                 [128, 64]                 4,160                     --                        True\n",
              "│    └─LeakyReLU: 2-10                   [128, 64]                 [128, 64]                 --                        --                        --\n",
              "│    └─Linear: 2-11                      [128, 64]                 [128, 10]                 650                       --                        True\n",
              "=====================================================================================================================================================================\n",
              "Total params: 144,362\n",
              "Trainable params: 144,362\n",
              "Non-trainable params: 0\n",
              "Total mult-adds (M): 304.63\n",
              "=====================================================================================================================================================================\n",
              "Input size (MB): 0.40\n",
              "Forward/backward pass size (MB): 15.35\n",
              "Params size (MB): 0.58\n",
              "Estimated Total Size (MB): 16.32\n",
              "====================================================================================================================================================================="
            ]
          },
          "metadata": {},
          "execution_count": 17
        }
      ]
    },
    {
      "cell_type": "code",
      "execution_count": 18,
      "metadata": {
        "colab": {
          "base_uri": "https://localhost:8080/",
          "height": 85,
          "referenced_widgets": [
            "04e5ec38da89406c8cc4cde2939d8da1",
            "88bbdb0f08404b8eb5ea25e60179cde1",
            "fa0efb425be14742a9bde6367af2f825",
            "b74f8995a16f433eb3b06b27022c8162",
            "c5a55e7d48f540a885f1c65882664c80",
            "36c5426ac35441089a0f68e59bf23a6a",
            "2f0fefdba7f549f4bbb751f363609700",
            "c82cb1a9ce314b7481b2b90b7f563ad6",
            "303cb692cebf4465a8565f125cdd3da8",
            "d5947305249446b1b9416c354ee1e16c",
            "d03e0e42c1724b8bb6e606c070b7cdca"
          ]
        },
        "id": "G4fdHVvfAI8e",
        "outputId": "6e4fb330-2a0f-46d7-9850-22f3cfd37cdf"
      },
      "outputs": [
        {
          "output_type": "display_data",
          "data": {
            "text/plain": [
              "  0%|          | 0/2 [00:00<?, ?it/s]"
            ],
            "application/vnd.jupyter.widget-view+json": {
              "version_major": 2,
              "version_minor": 0,
              "model_id": "04e5ec38da89406c8cc4cde2939d8da1"
            }
          },
          "metadata": {}
        },
        {
          "output_type": "stream",
          "name": "stdout",
          "text": [
            "Epoch: 1, Train Loss: 0.0186, Train Acc: 0.5927, Test Acc: 0.9154\n",
            "Epoch: 2, Train Loss: 0.0106, Train Acc: 0.7737, Test Acc: 0.9355\n"
          ]
        }
      ],
      "source": [
        "for epoch in tqdm(range(2)):\n",
        "    model.train()\n",
        "\n",
        "    train_acc = 0.0\n",
        "    train_loss = 0.0\n",
        "    train_size = len(train_loader)\n",
        "    \n",
        "    for i, (images, labels) in enumerate(train_loader):\n",
        "        images, labels = images.to(device), labels.to(device)\n",
        "\n",
        "        outputs = model(images)\n",
        "        loss = criterion(outputs, labels)\n",
        "        loss.backward()\n",
        "        optimizer.step() # update the weights and biases\n",
        "\n",
        "        model.zero_grad() # backward function accumulates gradients, and we don't want to mix up the gradients between the mini-batches; we 0 them out\n",
        "\n",
        "        train_loss += loss.item() / len(labels)\n",
        "        _, prediction = torch.max(outputs.data, 1)\n",
        "\n",
        "        train_acc += int(torch.sum(prediction == labels.data)) / len(labels)\n",
        "    \n",
        "    # average accuracy and loss across all mini-batches\n",
        "    train_acc /= train_size\n",
        "    train_loss /= train_size\n",
        "\n",
        "    model.eval()\n",
        "\n",
        "    test_acc = 0.0\n",
        "    test_size = len(test_loader)\n",
        "\n",
        "    with torch.inference_mode():\n",
        "        for images, labels in test_loader:\n",
        "            images, labels = images.to(device), labels.to(device)\n",
        "\n",
        "            outputs = model(images)\n",
        "            _, prediction = torch.max(outputs.data, 1)\n",
        "\n",
        "            test_acc += int(torch.sum(prediction == labels.data)) / len(labels)\n",
        "\n",
        "        test_acc /= test_size\n",
        "\n",
        "    print('Epoch: {}, Train Loss: {:.4f}, Train Acc: {:.4f}, Test Acc: {:.4f}'.format(epoch + 1, train_loss, train_acc, test_acc))"
      ]
    },
    {
      "cell_type": "code",
      "source": [
        "def visTensor(tensor, ch=0, allkernels=False, nrow=8, padding=1): \n",
        "    n,c,w,h = tensor.shape\n",
        "\n",
        "    if allkernels: tensor = tensor.view(n*c, -1, w, h)\n",
        "    elif c != 3: tensor = tensor[:,ch,:,:].unsqueeze(dim=1)\n",
        "\n",
        "    rows = np.min((tensor.shape[0] // nrow + 1, 64))    \n",
        "    grid = torchvision.utils.make_grid(tensor, nrow=nrow, normalize=True, padding=padding)\n",
        "    plt.figure(figsize=(nrow,rows))\n",
        "    plt.imshow(grid.cpu().numpy().transpose((1, 2, 0)), cmap='magma')\n",
        "\n",
        "    plt.axis('off')\n",
        "    plt.ioff()\n",
        "    plt.show()\n",
        "\n",
        "\n",
        "if __name__ == \"__main__\":\n",
        "    filter = model.conv1[0].weight.data.clone()\n",
        "    visTensor(filter, ch=0, allkernels=False)\n",
        "\n",
        "    filter = model.conv2[0].weight.data.clone()\n",
        "    visTensor(filter, ch=0, allkernels=False)"
      ],
      "metadata": {
        "colab": {
          "base_uri": "https://localhost:8080/",
          "height": 716
        },
        "id": "ig3F5KFMK5kV",
        "outputId": "3f73a65b-fb4b-49db-af82-bd54f0dc7c6b"
      },
      "execution_count": 21,
      "outputs": [
        {
          "output_type": "display_data",
          "data": {
            "text/plain": [
              "<Figure size 576x360 with 1 Axes>"
            ],
            "image/png": "[encoded data removed]"
          },
          "metadata": {}
        },
        {
          "output_type": "display_data",
          "data": {
            "text/plain": [
              "<Figure size 576x648 with 1 Axes>"
            ],
            "image/png": "[encoded data removed]"
          },
          "metadata": {}
        }
      ]
    }
  ],
  "metadata": {
    "accelerator": "GPU",
    "colab": {
      "provenance": []
    },
    "gpuClass": "standard",
    "kernelspec": {
      "display_name": "Python 3",
      "language": "python",
      "name": "python3"
    },
    "language_info": {
      "codemirror_mode": {
        "name": "ipython",
        "version": 3
      },
      "file_extension": ".py",
      "mimetype": "text/x-python",
      "name": "python",
      "nbconvert_exporter": "python",
      "pygments_lexer": "ipython3",
      "version": "3.10.9"
    },
    "orig_nbformat": 4,
    "vscode": {
      "interpreter": {
        "hash": "e7370f93d1d0cde622a1f8e1c04877d8463912d04d973331ad4851f04de6915a"
      }
    },
    "widgets": {
      "application/vnd.jupyter.widget-state+json": {
        "04e5ec38da89406c8cc4cde2939d8da1": {
          "model_module": "@jupyter-widgets/controls",
          "model_name": "HBoxModel",
          "model_module_version": "1.5.0",
          "state": {
            "_dom_classes": [],
            "_model_module": "@jupyter-widgets/controls",
            "_model_module_version": "1.5.0",
            "_model_name": "HBoxModel",
            "_view_count": null,
            "_view_module": "@jupyter-widgets/controls",
            "_view_module_version": "1.5.0",
            "_view_name": "HBoxView",
            "box_style": "",
            "children": [
              "IPY_MODEL_88bbdb0f08404b8eb5ea25e60179cde1",
              "IPY_MODEL_fa0efb425be14742a9bde6367af2f825",
              "IPY_MODEL_b74f8995a16f433eb3b06b27022c8162"
            ],
            "layout": "IPY_MODEL_c5a55e7d48f540a885f1c65882664c80"
          }
        },
        "88bbdb0f08404b8eb5ea25e60179cde1": {
          "model_module": "@jupyter-widgets/controls",
          "model_name": "HTMLModel",
          "model_module_version": "1.5.0",
          "state": {
            "_dom_classes": [],
            "_model_module": "@jupyter-widgets/controls",
            "_model_module_version": "1.5.0",
            "_model_name": "HTMLModel",
            "_view_count": null,
            "_view_module": "@jupyter-widgets/controls",
            "_view_module_version": "1.5.0",
            "_view_name": "HTMLView",
            "description": "",
            "description_tooltip": null,
            "layout": "IPY_MODEL_36c5426ac35441089a0f68e59bf23a6a",
            "placeholder": "​",
            "style": "IPY_MODEL_2f0fefdba7f549f4bbb751f363609700",
            "value": "100%"
          }
        },
        "fa0efb425be14742a9bde6367af2f825": {
          "model_module": "@jupyter-widgets/controls",
          "model_name": "FloatProgressModel",
          "model_module_version": "1.5.0",
          "state": {
            "_dom_classes": [],
            "_model_module": "@jupyter-widgets/controls",
            "_model_module_version": "1.5.0",
            "_model_name": "FloatProgressModel",
            "_view_count": null,
            "_view_module": "@jupyter-widgets/controls",
            "_view_module_version": "1.5.0",
            "_view_name": "ProgressView",
            "bar_style": "success",
            "description": "",
            "description_tooltip": null,
            "layout": "IPY_MODEL_c82cb1a9ce314b7481b2b90b7f563ad6",
            "max": 2,
            "min": 0,
            "orientation": "horizontal",
            "style": "IPY_MODEL_303cb692cebf4465a8565f125cdd3da8",
            "value": 2
          }
        },
        "b74f8995a16f433eb3b06b27022c8162": {
          "model_module": "@jupyter-widgets/controls",
          "model_name": "HTMLModel",
          "model_module_version": "1.5.0",
          "state": {
            "_dom_classes": [],
            "_model_module": "@jupyter-widgets/controls",
            "_model_module_version": "1.5.0",
            "_model_name": "HTMLModel",
            "_view_count": null,
            "_view_module": "@jupyter-widgets/controls",
            "_view_module_version": "1.5.0",
            "_view_name": "HTMLView",
            "description": "",
            "description_tooltip": null,
            "layout": "IPY_MODEL_d5947305249446b1b9416c354ee1e16c",
            "placeholder": "​",
            "style": "IPY_MODEL_d03e0e42c1724b8bb6e606c070b7cdca",
            "value": " 2/2 [01:02&lt;00:00, 30.39s/it]"
          }
        },
        "c5a55e7d48f540a885f1c65882664c80": {
          "model_module": "@jupyter-widgets/base",
          "model_name": "LayoutModel",
          "model_module_version": "1.2.0",
          "state": {
            "_model_module": "@jupyter-widgets/base",
            "_model_module_version": "1.2.0",
            "_model_name": "LayoutModel",
            "_view_count": null,
            "_view_module": "@jupyter-widgets/base",
            "_view_module_version": "1.2.0",
            "_view_name": "LayoutView",
            "align_content": null,
            "align_items": null,
            "align_self": null,
            "border": null,
            "bottom": null,
            "display": null,
            "flex": null,
            "flex_flow": null,
            "grid_area": null,
            "grid_auto_columns": null,
            "grid_auto_flow": null,
            "grid_auto_rows": null,
            "grid_column": null,
            "grid_gap": null,
            "grid_row": null,
            "grid_template_areas": null,
            "grid_template_columns": null,
            "grid_template_rows": null,
            "height": null,
            "justify_content": null,
            "justify_items": null,
            "left": null,
            "margin": null,
            "max_height": null,
            "max_width": null,
            "min_height": null,
            "min_width": null,
            "object_fit": null,
            "object_position": null,
            "order": null,
            "overflow": null,
            "overflow_x": null,
            "overflow_y": null,
            "padding": null,
            "right": null,
            "top": null,
            "visibility": null,
            "width": null
          }
        },
        "36c5426ac35441089a0f68e59bf23a6a": {
          "model_module": "@jupyter-widgets/base",
          "model_name": "LayoutModel",
          "model_module_version": "1.2.0",
          "state": {
            "_model_module": "@jupyter-widgets/base",
            "_model_module_version": "1.2.0",
            "_model_name": "LayoutModel",
            "_view_count": null,
            "_view_module": "@jupyter-widgets/base",
            "_view_module_version": "1.2.0",
            "_view_name": "LayoutView",
            "align_content": null,
            "align_items": null,
            "align_self": null,
            "border": null,
            "bottom": null,
            "display": null,
            "flex": null,
            "flex_flow": null,
            "grid_area": null,
            "grid_auto_columns": null,
            "grid_auto_flow": null,
            "grid_auto_rows": null,
            "grid_column": null,
            "grid_gap": null,
            "grid_row": null,
            "grid_template_areas": null,
            "grid_template_columns": null,
            "grid_template_rows": null,
            "height": null,
            "justify_content": null,
            "justify_items": null,
            "left": null,
            "margin": null,
            "max_height": null,
            "max_width": null,
            "min_height": null,
            "min_width": null,
            "object_fit": null,
            "object_position": null,
            "order": null,
            "overflow": null,
            "overflow_x": null,
            "overflow_y": null,
            "padding": null,
            "right": null,
            "top": null,
            "visibility": null,
            "width": null
          }
        },
        "2f0fefdba7f549f4bbb751f363609700": {
          "model_module": "@jupyter-widgets/controls",
          "model_name": "DescriptionStyleModel",
          "model_module_version": "1.5.0",
          "state": {
            "_model_module": "@jupyter-widgets/controls",
            "_model_module_version": "1.5.0",
            "_model_name": "DescriptionStyleModel",
            "_view_count": null,
            "_view_module": "@jupyter-widgets/base",
            "_view_module_version": "1.2.0",
            "_view_name": "StyleView",
            "description_width": ""
          }
        },
        "c82cb1a9ce314b7481b2b90b7f563ad6": {
          "model_module": "@jupyter-widgets/base",
          "model_name": "LayoutModel",
          "model_module_version": "1.2.0",
          "state": {
            "_model_module": "@jupyter-widgets/base",
            "_model_module_version": "1.2.0",
            "_model_name": "LayoutModel",
            "_view_count": null,
            "_view_module": "@jupyter-widgets/base",
            "_view_module_version": "1.2.0",
            "_view_name": "LayoutView",
            "align_content": null,
            "align_items": null,
            "align_self": null,
            "border": null,
            "bottom": null,
            "display": null,
            "flex": null,
            "flex_flow": null,
            "grid_area": null,
            "grid_auto_columns": null,
            "grid_auto_flow": null,
            "grid_auto_rows": null,
            "grid_column": null,
            "grid_gap": null,
            "grid_row": null,
            "grid_template_areas": null,
            "grid_template_columns": null,
            "grid_template_rows": null,
            "height": null,
            "justify_content": null,
            "justify_items": null,
            "left": null,
            "margin": null,
            "max_height": null,
            "max_width": null,
            "min_height": null,
            "min_width": null,
            "object_fit": null,
            "object_position": null,
            "order": null,
            "overflow": null,
            "overflow_x": null,
            "overflow_y": null,
            "padding": null,
            "right": null,
            "top": null,
            "visibility": null,
            "width": null
          }
        },
        "303cb692cebf4465a8565f125cdd3da8": {
          "model_module": "@jupyter-widgets/controls",
          "model_name": "ProgressStyleModel",
          "model_module_version": "1.5.0",
          "state": {
            "_model_module": "@jupyter-widgets/controls",
            "_model_module_version": "1.5.0",
            "_model_name": "ProgressStyleModel",
            "_view_count": null,
            "_view_module": "@jupyter-widgets/base",
            "_view_module_version": "1.2.0",
            "_view_name": "StyleView",
            "bar_color": null,
            "description_width": ""
          }
        },
        "d5947305249446b1b9416c354ee1e16c": {
          "model_module": "@jupyter-widgets/base",
          "model_name": "LayoutModel",
          "model_module_version": "1.2.0",
          "state": {
            "_model_module": "@jupyter-widgets/base",
            "_model_module_version": "1.2.0",
            "_model_name": "LayoutModel",
            "_view_count": null,
            "_view_module": "@jupyter-widgets/base",
            "_view_module_version": "1.2.0",
            "_view_name": "LayoutView",
            "align_content": null,
            "align_items": null,
            "align_self": null,
            "border": null,
            "bottom": null,
            "display": null,
            "flex": null,
            "flex_flow": null,
            "grid_area": null,
            "grid_auto_columns": null,
            "grid_auto_flow": null,
            "grid_auto_rows": null,
            "grid_column": null,
            "grid_gap": null,
            "grid_row": null,
            "grid_template_areas": null,
            "grid_template_columns": null,
            "grid_template_rows": null,
            "height": null,
            "justify_content": null,
            "justify_items": null,
            "left": null,
            "margin": null,
            "max_height": null,
            "max_width": null,
            "min_height": null,
            "min_width": null,
            "object_fit": null,
            "object_position": null,
            "order": null,
            "overflow": null,
            "overflow_x": null,
            "overflow_y": null,
            "padding": null,
            "right": null,
            "top": null,
            "visibility": null,
            "width": null
          }
        },
        "d03e0e42c1724b8bb6e606c070b7cdca": {
          "model_module": "@jupyter-widgets/controls",
          "model_name": "DescriptionStyleModel",
          "model_module_version": "1.5.0",
          "state": {
            "_model_module": "@jupyter-widgets/controls",
            "_model_module_version": "1.5.0",
            "_model_name": "DescriptionStyleModel",
            "_view_count": null,
            "_view_module": "@jupyter-widgets/base",
            "_view_module_version": "1.2.0",
            "_view_name": "StyleView",
            "description_width": ""
          }
        }
      }
    }
  },
  "nbformat": 4,
  "nbformat_minor": 0
}