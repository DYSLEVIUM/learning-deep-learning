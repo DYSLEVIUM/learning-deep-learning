{
  "nbformat": 4,
  "nbformat_minor": 0,
  "metadata": {
    "colab": {
      "provenance": []
    },
    "kernelspec": {
      "name": "python3",
      "display_name": "Python 3"
    },
    "language_info": {
      "name": "python"
    },
    "accelerator": "GPU",
    "gpuClass": "standard",
    "widgets": {
      "application/vnd.jupyter.widget-state+json": {
        "4822e753396545ea88288cb0cdda1866": {
          "model_module": "@jupyter-widgets/controls",
          "model_name": "HBoxModel",
          "model_module_version": "1.5.0",
          "state": {
            "_dom_classes": [],
            "_model_module": "@jupyter-widgets/controls",
            "_model_module_version": "1.5.0",
            "_model_name": "HBoxModel",
            "_view_count": null,
            "_view_module": "@jupyter-widgets/controls",
            "_view_module_version": "1.5.0",
            "_view_name": "HBoxView",
            "box_style": "",
            "children": [
              "IPY_MODEL_fb8e99d64ad14e3999f9769aa775dd18",
              "IPY_MODEL_6cedf7b64bee4e50a374ad756bdd0707",
              "IPY_MODEL_5a79866a6d0e46b696cc1c820cc8b713"
            ],
            "layout": "IPY_MODEL_846dce27b5c74e30b32540e0899a99cb"
          }
        },
        "fb8e99d64ad14e3999f9769aa775dd18": {
          "model_module": "@jupyter-widgets/controls",
          "model_name": "HTMLModel",
          "model_module_version": "1.5.0",
          "state": {
            "_dom_classes": [],
            "_model_module": "@jupyter-widgets/controls",
            "_model_module_version": "1.5.0",
            "_model_name": "HTMLModel",
            "_view_count": null,
            "_view_module": "@jupyter-widgets/controls",
            "_view_module_version": "1.5.0",
            "_view_name": "HTMLView",
            "description": "",
            "description_tooltip": null,
            "layout": "IPY_MODEL_29927a5962624d58859ddbb8c7f226fa",
            "placeholder": "​",
            "style": "IPY_MODEL_55076c0128fc464abe4deb18a9626a9c",
            "value": "100%"
          }
        },
        "6cedf7b64bee4e50a374ad756bdd0707": {
          "model_module": "@jupyter-widgets/controls",
          "model_name": "FloatProgressModel",
          "model_module_version": "1.5.0",
          "state": {
            "_dom_classes": [],
            "_model_module": "@jupyter-widgets/controls",
            "_model_module_version": "1.5.0",
            "_model_name": "FloatProgressModel",
            "_view_count": null,
            "_view_module": "@jupyter-widgets/controls",
            "_view_module_version": "1.5.0",
            "_view_name": "ProgressView",
            "bar_style": "success",
            "description": "",
            "description_tooltip": null,
            "layout": "IPY_MODEL_335882ad9a8b434589fe4847e8d4ab3f",
            "max": 32,
            "min": 0,
            "orientation": "horizontal",
            "style": "IPY_MODEL_e17b8965b68542448a750df665d2e1b0",
            "value": 32
          }
        },
        "5a79866a6d0e46b696cc1c820cc8b713": {
          "model_module": "@jupyter-widgets/controls",
          "model_name": "HTMLModel",
          "model_module_version": "1.5.0",
          "state": {
            "_dom_classes": [],
            "_model_module": "@jupyter-widgets/controls",
            "_model_module_version": "1.5.0",
            "_model_name": "HTMLModel",
            "_view_count": null,
            "_view_module": "@jupyter-widgets/controls",
            "_view_module_version": "1.5.0",
            "_view_name": "HTMLView",
            "description": "",
            "description_tooltip": null,
            "layout": "IPY_MODEL_22e83fd6b7084e24b5893acdc089c290",
            "placeholder": "​",
            "style": "IPY_MODEL_07e43a568566415ea2bc8877c34f421d",
            "value": " 32/32 [19:14&lt;00:00, 35.79s/it]"
          }
        },
        "846dce27b5c74e30b32540e0899a99cb": {
          "model_module": "@jupyter-widgets/base",
          "model_name": "LayoutModel",
          "model_module_version": "1.2.0",
          "state": {
            "_model_module": "@jupyter-widgets/base",
            "_model_module_version": "1.2.0",
            "_model_name": "LayoutModel",
            "_view_count": null,
            "_view_module": "@jupyter-widgets/base",
            "_view_module_version": "1.2.0",
            "_view_name": "LayoutView",
            "align_content": null,
            "align_items": null,
            "align_self": null,
            "border": null,
            "bottom": null,
            "display": null,
            "flex": null,
            "flex_flow": null,
            "grid_area": null,
            "grid_auto_columns": null,
            "grid_auto_flow": null,
            "grid_auto_rows": null,
            "grid_column": null,
            "grid_gap": null,
            "grid_row": null,
            "grid_template_areas": null,
            "grid_template_columns": null,
            "grid_template_rows": null,
            "height": null,
            "justify_content": null,
            "justify_items": null,
            "left": null,
            "margin": null,
            "max_height": null,
            "max_width": null,
            "min_height": null,
            "min_width": null,
            "object_fit": null,
            "object_position": null,
            "order": null,
            "overflow": null,
            "overflow_x": null,
            "overflow_y": null,
            "padding": null,
            "right": null,
            "top": null,
            "visibility": null,
            "width": null
          }
        },
        "29927a5962624d58859ddbb8c7f226fa": {
          "model_module": "@jupyter-widgets/base",
          "model_name": "LayoutModel",
          "model_module_version": "1.2.0",
          "state": {
            "_model_module": "@jupyter-widgets/base",
            "_model_module_version": "1.2.0",
            "_model_name": "LayoutModel",
            "_view_count": null,
            "_view_module": "@jupyter-widgets/base",
            "_view_module_version": "1.2.0",
            "_view_name": "LayoutView",
            "align_content": null,
            "align_items": null,
            "align_self": null,
            "border": null,
            "bottom": null,
            "display": null,
            "flex": null,
            "flex_flow": null,
            "grid_area": null,
            "grid_auto_columns": null,
            "grid_auto_flow": null,
            "grid_auto_rows": null,
            "grid_column": null,
            "grid_gap": null,
            "grid_row": null,
            "grid_template_areas": null,
            "grid_template_columns": null,
            "grid_template_rows": null,
            "height": null,
            "justify_content": null,
            "justify_items": null,
            "left": null,
            "margin": null,
            "max_height": null,
            "max_width": null,
            "min_height": null,
            "min_width": null,
            "object_fit": null,
            "object_position": null,
            "order": null,
            "overflow": null,
            "overflow_x": null,
            "overflow_y": null,
            "padding": null,
            "right": null,
            "top": null,
            "visibility": null,
            "width": null
          }
        },
        "55076c0128fc464abe4deb18a9626a9c": {
          "model_module": "@jupyter-widgets/controls",
          "model_name": "DescriptionStyleModel",
          "model_module_version": "1.5.0",
          "state": {
            "_model_module": "@jupyter-widgets/controls",
            "_model_module_version": "1.5.0",
            "_model_name": "DescriptionStyleModel",
            "_view_count": null,
            "_view_module": "@jupyter-widgets/base",
            "_view_module_version": "1.2.0",
            "_view_name": "StyleView",
            "description_width": ""
          }
        },
        "335882ad9a8b434589fe4847e8d4ab3f": {
          "model_module": "@jupyter-widgets/base",
          "model_name": "LayoutModel",
          "model_module_version": "1.2.0",
          "state": {
            "_model_module": "@jupyter-widgets/base",
            "_model_module_version": "1.2.0",
            "_model_name": "LayoutModel",
            "_view_count": null,
            "_view_module": "@jupyter-widgets/base",
            "_view_module_version": "1.2.0",
            "_view_name": "LayoutView",
            "align_content": null,
            "align_items": null,
            "align_self": null,
            "border": null,
            "bottom": null,
            "display": null,
            "flex": null,
            "flex_flow": null,
            "grid_area": null,
            "grid_auto_columns": null,
            "grid_auto_flow": null,
            "grid_auto_rows": null,
            "grid_column": null,
            "grid_gap": null,
            "grid_row": null,
            "grid_template_areas": null,
            "grid_template_columns": null,
            "grid_template_rows": null,
            "height": null,
            "justify_content": null,
            "justify_items": null,
            "left": null,
            "margin": null,
            "max_height": null,
            "max_width": null,
            "min_height": null,
            "min_width": null,
            "object_fit": null,
            "object_position": null,
            "order": null,
            "overflow": null,
            "overflow_x": null,
            "overflow_y": null,
            "padding": null,
            "right": null,
            "top": null,
            "visibility": null,
            "width": null
          }
        },
        "e17b8965b68542448a750df665d2e1b0": {
          "model_module": "@jupyter-widgets/controls",
          "model_name": "ProgressStyleModel",
          "model_module_version": "1.5.0",
          "state": {
            "_model_module": "@jupyter-widgets/controls",
            "_model_module_version": "1.5.0",
            "_model_name": "ProgressStyleModel",
            "_view_count": null,
            "_view_module": "@jupyter-widgets/base",
            "_view_module_version": "1.2.0",
            "_view_name": "StyleView",
            "bar_color": null,
            "description_width": ""
          }
        },
        "22e83fd6b7084e24b5893acdc089c290": {
          "model_module": "@jupyter-widgets/base",
          "model_name": "LayoutModel",
          "model_module_version": "1.2.0",
          "state": {
            "_model_module": "@jupyter-widgets/base",
            "_model_module_version": "1.2.0",
            "_model_name": "LayoutModel",
            "_view_count": null,
            "_view_module": "@jupyter-widgets/base",
            "_view_module_version": "1.2.0",
            "_view_name": "LayoutView",
            "align_content": null,
            "align_items": null,
            "align_self": null,
            "border": null,
            "bottom": null,
            "display": null,
            "flex": null,
            "flex_flow": null,
            "grid_area": null,
            "grid_auto_columns": null,
            "grid_auto_flow": null,
            "grid_auto_rows": null,
            "grid_column": null,
            "grid_gap": null,
            "grid_row": null,
            "grid_template_areas": null,
            "grid_template_columns": null,
            "grid_template_rows": null,
            "height": null,
            "justify_content": null,
            "justify_items": null,
            "left": null,
            "margin": null,
            "max_height": null,
            "max_width": null,
            "min_height": null,
            "min_width": null,
            "object_fit": null,
            "object_position": null,
            "order": null,
            "overflow": null,
            "overflow_x": null,
            "overflow_y": null,
            "padding": null,
            "right": null,
            "top": null,
            "visibility": null,
            "width": null
          }
        },
        "07e43a568566415ea2bc8877c34f421d": {
          "model_module": "@jupyter-widgets/controls",
          "model_name": "DescriptionStyleModel",
          "model_module_version": "1.5.0",
          "state": {
            "_model_module": "@jupyter-widgets/controls",
            "_model_module_version": "1.5.0",
            "_model_name": "DescriptionStyleModel",
            "_view_count": null,
            "_view_module": "@jupyter-widgets/base",
            "_view_module_version": "1.2.0",
            "_view_name": "StyleView",
            "description_width": ""
          }
        }
      }
    }
  },
  "cells": [
    {
      "cell_type": "code",
      "execution_count": 1,
      "metadata": {
        "id": "7izfC9VgLExk",
        "colab": {
          "base_uri": "https://localhost:8080/"
        },
        "outputId": "97910932-51e3-4b6e-f62b-b3f94bfff253"
      },
      "outputs": [
        {
          "output_type": "stream",
          "name": "stdout",
          "text": [
            "Looking in indexes: https://pypi.org/simple, https://us-python.pkg.dev/colab-wheels/public/simple/\n",
            "Requirement already satisfied: torch in /usr/local/lib/python3.8/dist-packages (1.13.0+cu116)\n",
            "Requirement already satisfied: torchvision in /usr/local/lib/python3.8/dist-packages (0.14.0+cu116)\n",
            "Requirement already satisfied: tqdm in /usr/local/lib/python3.8/dist-packages (4.64.1)\n",
            "Collecting torchinfo\n",
            "  Downloading torchinfo-1.7.1-py3-none-any.whl (22 kB)\n",
            "Requirement already satisfied: numpy in /usr/local/lib/python3.8/dist-packages (1.21.6)\n",
            "Requirement already satisfied: pandas in /usr/local/lib/python3.8/dist-packages (1.3.5)\n",
            "Requirement already satisfied: matplotlib in /usr/local/lib/python3.8/dist-packages (3.2.2)\n",
            "Requirement already satisfied: seaborn in /usr/local/lib/python3.8/dist-packages (0.11.2)\n",
            "Requirement already satisfied: Pillow in /usr/local/lib/python3.8/dist-packages (7.1.2)\n",
            "Requirement already satisfied: typing-extensions in /usr/local/lib/python3.8/dist-packages (from torch) (4.4.0)\n",
            "Requirement already satisfied: requests in /usr/local/lib/python3.8/dist-packages (from torchvision) (2.25.1)\n",
            "Requirement already satisfied: python-dateutil>=2.7.3 in /usr/local/lib/python3.8/dist-packages (from pandas) (2.8.2)\n",
            "Requirement already satisfied: pytz>=2017.3 in /usr/local/lib/python3.8/dist-packages (from pandas) (2022.7)\n",
            "Requirement already satisfied: pyparsing!=2.0.4,!=2.1.2,!=2.1.6,>=2.0.1 in /usr/local/lib/python3.8/dist-packages (from matplotlib) (3.0.9)\n",
            "Requirement already satisfied: kiwisolver>=1.0.1 in /usr/local/lib/python3.8/dist-packages (from matplotlib) (1.4.4)\n",
            "Requirement already satisfied: cycler>=0.10 in /usr/local/lib/python3.8/dist-packages (from matplotlib) (0.11.0)\n",
            "Requirement already satisfied: scipy>=1.0 in /usr/local/lib/python3.8/dist-packages (from seaborn) (1.7.3)\n",
            "Requirement already satisfied: six>=1.5 in /usr/local/lib/python3.8/dist-packages (from python-dateutil>=2.7.3->pandas) (1.15.0)\n",
            "Requirement already satisfied: chardet<5,>=3.0.2 in /usr/local/lib/python3.8/dist-packages (from requests->torchvision) (4.0.0)\n",
            "Requirement already satisfied: urllib3<1.27,>=1.21.1 in /usr/local/lib/python3.8/dist-packages (from requests->torchvision) (1.24.3)\n",
            "Requirement already satisfied: idna<3,>=2.5 in /usr/local/lib/python3.8/dist-packages (from requests->torchvision) (2.10)\n",
            "Requirement already satisfied: certifi>=2017.4.17 in /usr/local/lib/python3.8/dist-packages (from requests->torchvision) (2022.12.7)\n",
            "Installing collected packages: torchinfo\n",
            "Successfully installed torchinfo-1.7.1\n"
          ]
        }
      ],
      "source": [
        "!pip install torch torchvision tqdm torchinfo numpy pandas matplotlib seaborn Pillow"
      ]
    },
    {
      "cell_type": "code",
      "source": [
        "import os\n",
        "import math\n",
        "\n",
        "import numpy as np\n",
        "import pandas as pd\n",
        "import matplotlib.pyplot as plt\n",
        "import seaborn as sns\n",
        "\n",
        "import torch\n",
        "import torch.nn as nn\n",
        "import torch.nn.functional as F\n",
        "import torch.optim as optim\n",
        "from torch.utils.data import DataLoader, Dataset\n",
        "\n",
        "import torchvision\n",
        "import torchvision.transforms as transforms\n",
        "from torchvision.utils import make_grid\n",
        "\n",
        "from IPython.display import display\n",
        "from PIL import Image\n",
        "\n",
        "from tqdm.auto import tqdm\n",
        "from torchinfo import summary\n",
        "\n",
        "%matplotlib inline\n",
        "sns.set()\n",
        "\n",
        "print(f'Torch Verison: {torch.__version__}')\n",
        "print(f'Torchvision Verison: {torchvision.__version__}')\n",
        "\n",
        "torch.manual_seed(42)\n",
        "torch.cuda.manual_seed_all(42)"
      ],
      "metadata": {
        "colab": {
          "base_uri": "https://localhost:8080/"
        },
        "id": "94WJW1WqaBfA",
        "outputId": "b1aa224c-a045-4f22-c4ce-1d0a2586aa89"
      },
      "execution_count": 2,
      "outputs": [
        {
          "output_type": "stream",
          "name": "stdout",
          "text": [
            "Torch Verison: 1.13.0+cu116\n",
            "Torchvision Verison: 0.14.0+cu116\n"
          ]
        }
      ]
    },
    {
      "cell_type": "code",
      "source": [
        "device = torch.device('cuda' if torch.cuda.is_available() else 'cpu')\n",
        "device"
      ],
      "metadata": {
        "colab": {
          "base_uri": "https://localhost:8080/"
        },
        "id": "jWypd-5Gof0Q",
        "outputId": "d7bcaebf-fff5-49db-b3c7-0131c9e9ce5c"
      },
      "execution_count": 3,
      "outputs": [
        {
          "output_type": "execute_result",
          "data": {
            "text/plain": [
              "device(type='cpu')"
            ]
          },
          "metadata": {},
          "execution_count": 3
        }
      ]
    },
    {
      "cell_type": "code",
      "source": [
        "train_transform = transforms.Compose([\n",
        "    transforms.RandomRotation(degrees=20),\n",
        "    transforms.RandomAffine(degrees=0, translate=(0.1, 0.1)),\n",
        "    transforms.RandomAffine(degrees=0, scale=(0.5, 1.3)),\n",
        "    transforms.RandomAffine(degrees=0, shear=(-5, 5, -5, 5)),\n",
        "    transforms.RandomInvert(p=0.3),\n",
        "    # transforms.RandomApply([\n",
        "    #     transforms.GaussianBlur(kernel_size=(3, 3), sigma=(0.1, 2)),\n",
        "    # ], p=0.5),\n",
        "    transforms.ToTensor(),\n",
        "    # transforms.Normalize(0.1307, 0.3081) # mean and std of mnist dataset\n",
        "])\n",
        "\n",
        "test_transform = transforms.Compose([\n",
        "    transforms.ToTensor(),\n",
        "    # transforms.Normalize(0.1307, 0.3081)\n",
        "])"
      ],
      "metadata": {
        "id": "ElJ4803kln8_"
      },
      "execution_count": 89,
      "outputs": []
    },
    {
      "cell_type": "code",
      "source": [
        "train_dataset = torchvision.datasets.MNIST(root='./dataset', train=True, download=True, transform=train_transform)\n",
        "valid_dataset = torchvision.datasets.MNIST(root='./dataset', train=False, transform=test_transform)"
      ],
      "metadata": {
        "id": "NsHHY1sXlkxp"
      },
      "execution_count": 90,
      "outputs": []
    },
    {
      "cell_type": "code",
      "source": [
        "images, labels = zip(*[train_dataset[i] for i in range(10)])\n",
        "images = torch.stack(images)\n",
        "\n",
        "grid = torchvision.utils.make_grid(images, nrow=10, padding=4)\n",
        "\n",
        "fig, ax = plt.subplots(figsize=(30, 30))\n",
        "plt.imshow(grid.numpy().transpose((1, 2, 0)))\n",
        "plt.axis('off')\n",
        "plt.show()\n",
        "print([train_dataset.classes[label] for label in labels])"
      ],
      "metadata": {
        "colab": {
          "base_uri": "https://localhost:8080/",
          "height": 235
        },
        "id": "xEoiHMW-l-DK",
        "outputId": "c85d9c92-8c5d-4bf4-b630-fd1b04cf542b"
      },
      "execution_count": 91,
      "outputs": [
        {
          "output_type": "display_data",
          "data": {
            "text/plain": [
              "<Figure size 2160x2160 with 1 Axes>"
            ],
            "image/png": "[encoded data removed]"
          },
          "metadata": {}
        },
        {
          "output_type": "stream",
          "name": "stdout",
          "text": [
            "['5 - five', '0 - zero', '4 - four', '1 - one', '9 - nine', '2 - two', '1 - one', '3 - three', '1 - one', '4 - four']\n"
          ]
        }
      ]
    },
    {
      "cell_type": "code",
      "source": [
        "EPOCHS = 32\n",
        "BATCH_SIZE = 64\n",
        "LEARNING_RATE = 3e-4 # karapathy constant\n",
        "CHANNELS = 1\n",
        "LATENT_DIM = 32\n",
        "WIDTH = 28\n",
        "HEIGHT = 28\n",
        "WEIGHT_DECAY = 1e-6"
      ],
      "metadata": {
        "id": "2e4Yf5fAoJ0S"
      },
      "execution_count": 145,
      "outputs": []
    },
    {
      "cell_type": "code",
      "source": [
        "train_loader = DataLoader(train_dataset, batch_size=BATCH_SIZE, shuffle=True, num_workers=os.cpu_count(), pin_memory=True, drop_last=True)\n",
        "valid_loader = DataLoader(valid_dataset, batch_size=BATCH_SIZE, shuffle=False, num_workers=os.cpu_count(), pin_memory=True)"
      ],
      "metadata": {
        "id": "KRdFb5ZFoWuf"
      },
      "execution_count": 146,
      "outputs": []
    },
    {
      "cell_type": "code",
      "source": [
        "train_iter = iter(train_loader)\n",
        "images, labels = next(train_iter)\n",
        "\n",
        "print(torch.min(images), torch.max(images))\n",
        "\n",
        "plt.axis('off')\n",
        "plt.imshow(transforms.ToPILImage()(images[0]))"
      ],
      "metadata": {
        "colab": {
          "base_uri": "https://localhost:8080/",
          "height": 284
        },
        "id": "t6SiTQlisQsJ",
        "outputId": "8d1643f4-a43f-47f8-b259-02deb5ebfe85"
      },
      "execution_count": 147,
      "outputs": [
        {
          "output_type": "stream",
          "name": "stdout",
          "text": [
            "tensor(0.) tensor(1.)\n"
          ]
        },
        {
          "output_type": "execute_result",
          "data": {
            "text/plain": [
              "<matplotlib.image.AxesImage at 0x7f4ea26be8b0>"
            ]
          },
          "metadata": {},
          "execution_count": 147
        },
        {
          "output_type": "display_data",
          "data": {
            "text/plain": [
              "<Figure size 432x288 with 1 Axes>"
            ],
            "image/png": "[encoded data removed]"
          },
          "metadata": {}
        }
      ]
    },
    {
      "cell_type": "code",
      "source": [
        "class Encoder(nn.Module):\n",
        "    def __init__(self, channels, latent_dim):\n",
        "        super(Encoder, self).__init__()\n",
        "\n",
        "        self.net = nn.Sequential(\n",
        "            nn.Conv2d(in_channels=channels, out_channels=16, kernel_size=3, stride=2, padding=3, dilation=1, bias=True, padding_mode='zeros'), # N, 16, 16, 16\n",
        "            nn.LeakyReLU(negative_slope=0.01, inplace=True),\n",
        "            nn.Conv2d(in_channels=16, out_channels=16, kernel_size=3, stride=2, padding=1), # N, 16, 8, 8\n",
        "            nn.LeakyReLU(inplace=True),\n",
        "            nn.Conv2d(in_channels=16, out_channels=32, kernel_size=3, stride=2, padding=1), # N, 32, 4, 4\n",
        "            nn.LeakyReLU(inplace=True),\n",
        "            nn.Conv2d(in_channels=32, out_channels=latent_dim, kernel_size=4), # N, latent_dim, 1, 1\n",
        "        )\n",
        "\n",
        "    def forward(self, x):\n",
        "        x = self.net(x)\n",
        "\n",
        "        '''\n",
        "            It is common practice to not use an activation function in the last layer of the encoder in an autoencoder. \n",
        "            This is because the last layer of the encoder should output a representation that captures the essential features of the input data, \n",
        "            and an activation function could distort this representation by introducing non-linearity.\n",
        "        '''\n",
        "\n",
        "        return x\n",
        "\n",
        "summary(model=Encoder(channels=CHANNELS, latent_dim=LATENT_DIM), input_size=[BATCH_SIZE, CHANNELS, WIDTH, HEIGHT])"
      ],
      "metadata": {
        "colab": {
          "base_uri": "https://localhost:8080/"
        },
        "id": "f1XHV-UIolho",
        "outputId": "bf084aab-4726-48f6-e2dc-226cfdadfd15"
      },
      "execution_count": 148,
      "outputs": [
        {
          "output_type": "execute_result",
          "data": {
            "text/plain": [
              "==========================================================================================\n",
              "Layer (type:depth-idx)                   Output Shape              Param #\n",
              "==========================================================================================\n",
              "Encoder                                  [64, 32, 1, 1]            --\n",
              "├─Sequential: 1-1                        [64, 32, 1, 1]            --\n",
              "│    └─Conv2d: 2-1                       [64, 16, 16, 16]          160\n",
              "│    └─LeakyReLU: 2-2                    [64, 16, 16, 16]          --\n",
              "│    └─Conv2d: 2-3                       [64, 16, 8, 8]            2,320\n",
              "│    └─LeakyReLU: 2-4                    [64, 16, 8, 8]            --\n",
              "│    └─Conv2d: 2-5                       [64, 32, 4, 4]            4,640\n",
              "│    └─LeakyReLU: 2-6                    [64, 32, 4, 4]            --\n",
              "│    └─Conv2d: 2-7                       [64, 32, 1, 1]            16,416\n",
              "==========================================================================================\n",
              "Total params: 23,536\n",
              "Trainable params: 23,536\n",
              "Non-trainable params: 0\n",
              "Total mult-adds (M): 17.93\n",
              "==========================================================================================\n",
              "Input size (MB): 0.20\n",
              "Forward/backward pass size (MB): 2.90\n",
              "Params size (MB): 0.09\n",
              "Estimated Total Size (MB): 3.19\n",
              "=========================================================================================="
            ]
          },
          "metadata": {},
          "execution_count": 148
        }
      ]
    },
    {
      "cell_type": "code",
      "source": [
        "class Decoder(nn.Module):\n",
        "    def __init__(self, channels, latent_dim):\n",
        "        super(Decoder, self).__init__()\n",
        "\n",
        "        self.net = nn.Sequential(\n",
        "            nn.ConvTranspose2d(in_channels=latent_dim, out_channels=32, kernel_size=(4, 4), stride=1, padding=0, dilation=1, bias=True, padding_mode='zeros'), # N, 32, 4, 4\n",
        "            nn.LeakyReLU(inplace=True),\n",
        "            nn.ConvTranspose2d(in_channels=32, out_channels=16, kernel_size=3, stride=2, padding=1, output_padding=1), # N, 16, 7, 7 -> with output_padding=1 we get N, 16, 8, 8\n",
        "            nn.LeakyReLU(inplace=True),\n",
        "\n",
        "            nn.ConvTranspose2d(in_channels=16, out_channels=16, kernel_size=3, stride=2, padding=1, output_padding=1), # N, 16, 16, 16\n",
        "            nn.LeakyReLU(inplace=True),\n",
        "            nn.ConvTranspose2d(in_channels=16, out_channels=channels, kernel_size=3, stride=2, padding=3, output_padding=1), # N, 1, 28, 28\n",
        "            nn.Sigmoid() # as we have normalized the dataset, so our range is from [0, 1], so we want sigmoid, if it had been [-1, 1], i.e, mean=0.5 and std=0.5 we would have used tanh\n",
        "        )\n",
        "\n",
        "    def forward(self, x):\n",
        "        x = self.net(x)\n",
        "        return x\n",
        "\n",
        "# if we use MaxPool2d, we have to use MaxUnpool2d\n",
        "# if dataset is in range of [-1, 1], consider using leaky-relu \n",
        "\n",
        "summary(model=Decoder(channels=CHANNELS, latent_dim=LATENT_DIM), input_size=[BATCH_SIZE, LATENT_DIM, 1, 1])"
      ],
      "metadata": {
        "colab": {
          "base_uri": "https://localhost:8080/"
        },
        "id": "rCdIGkH9oodZ",
        "outputId": "a84fc527-b28b-4a05-ff7d-59136c9b343d"
      },
      "execution_count": 149,
      "outputs": [
        {
          "output_type": "execute_result",
          "data": {
            "text/plain": [
              "==========================================================================================\n",
              "Layer (type:depth-idx)                   Output Shape              Param #\n",
              "==========================================================================================\n",
              "Decoder                                  [64, 1, 28, 28]           --\n",
              "├─Sequential: 1-1                        [64, 1, 28, 28]           --\n",
              "│    └─ConvTranspose2d: 2-1              [64, 32, 4, 4]            16,416\n",
              "│    └─LeakyReLU: 2-2                    [64, 32, 4, 4]            --\n",
              "│    └─ConvTranspose2d: 2-3              [64, 16, 8, 8]            4,624\n",
              "│    └─LeakyReLU: 2-4                    [64, 16, 8, 8]            --\n",
              "│    └─ConvTranspose2d: 2-5              [64, 16, 16, 16]          2,320\n",
              "│    └─LeakyReLU: 2-6                    [64, 16, 16, 16]          --\n",
              "│    └─ConvTranspose2d: 2-7              [64, 1, 28, 28]           145\n",
              "│    └─Sigmoid: 2-8                      [64, 1, 28, 28]           --\n",
              "==========================================================================================\n",
              "Total params: 23,505\n",
              "Trainable params: 23,505\n",
              "Non-trainable params: 0\n",
              "Total mult-adds (M): 81.04\n",
              "==========================================================================================\n",
              "Input size (MB): 0.01\n",
              "Forward/backward pass size (MB): 3.28\n",
              "Params size (MB): 0.09\n",
              "Estimated Total Size (MB): 3.39\n",
              "=========================================================================================="
            ]
          },
          "metadata": {},
          "execution_count": 149
        }
      ]
    },
    {
      "cell_type": "code",
      "source": [
        "# AutoEncoders are also a type of generative model\n",
        "class AutoEncoder(nn.Module):\n",
        "    def __init__(self, channels, latent_dim):\n",
        "        super(AutoEncoder, self).__init__()\n",
        "        self.encoder = Encoder(channels, latent_dim).to(device)\n",
        "        self.decoder = Decoder(channels, latent_dim).to(device)\n",
        "    \n",
        "    def forward(self, x):\n",
        "        z = self.encoder(x)\n",
        "        x_hat = self.decoder(z)\n",
        "\n",
        "        return x_hat\n",
        "\n",
        "summary(model=AutoEncoder(channels=CHANNELS, latent_dim=LATENT_DIM), input_size=[BATCH_SIZE, CHANNELS, WIDTH, HEIGHT])"
      ],
      "metadata": {
        "colab": {
          "base_uri": "https://localhost:8080/"
        },
        "id": "fYTGadGz7Obu",
        "outputId": "cfa7c592-88be-4882-a23e-d869c69fd0b7"
      },
      "execution_count": 150,
      "outputs": [
        {
          "output_type": "execute_result",
          "data": {
            "text/plain": [
              "==========================================================================================\n",
              "Layer (type:depth-idx)                   Output Shape              Param #\n",
              "==========================================================================================\n",
              "AutoEncoder                              [64, 1, 28, 28]           --\n",
              "├─Encoder: 1-1                           [64, 32, 1, 1]            --\n",
              "│    └─Sequential: 2-1                   [64, 32, 1, 1]            --\n",
              "│    │    └─Conv2d: 3-1                  [64, 16, 16, 16]          160\n",
              "│    │    └─LeakyReLU: 3-2               [64, 16, 16, 16]          --\n",
              "│    │    └─Conv2d: 3-3                  [64, 16, 8, 8]            2,320\n",
              "│    │    └─LeakyReLU: 3-4               [64, 16, 8, 8]            --\n",
              "│    │    └─Conv2d: 3-5                  [64, 32, 4, 4]            4,640\n",
              "│    │    └─LeakyReLU: 3-6               [64, 32, 4, 4]            --\n",
              "│    │    └─Conv2d: 3-7                  [64, 32, 1, 1]            16,416\n",
              "├─Decoder: 1-2                           [64, 1, 28, 28]           --\n",
              "│    └─Sequential: 2-2                   [64, 1, 28, 28]           --\n",
              "│    │    └─ConvTranspose2d: 3-8         [64, 32, 4, 4]            16,416\n",
              "│    │    └─LeakyReLU: 3-9               [64, 32, 4, 4]            --\n",
              "│    │    └─ConvTranspose2d: 3-10        [64, 16, 8, 8]            4,624\n",
              "│    │    └─LeakyReLU: 3-11              [64, 16, 8, 8]            --\n",
              "│    │    └─ConvTranspose2d: 3-12        [64, 16, 16, 16]          2,320\n",
              "│    │    └─LeakyReLU: 3-13              [64, 16, 16, 16]          --\n",
              "│    │    └─ConvTranspose2d: 3-14        [64, 1, 28, 28]           145\n",
              "│    │    └─Sigmoid: 3-15                [64, 1, 28, 28]           --\n",
              "==========================================================================================\n",
              "Total params: 47,041\n",
              "Trainable params: 47,041\n",
              "Non-trainable params: 0\n",
              "Total mult-adds (M): 98.96\n",
              "==========================================================================================\n",
              "Input size (MB): 0.20\n",
              "Forward/backward pass size (MB): 6.18\n",
              "Params size (MB): 0.19\n",
              "Estimated Total Size (MB): 6.57\n",
              "=========================================================================================="
            ]
          },
          "metadata": {},
          "execution_count": 150
        }
      ]
    },
    {
      "cell_type": "code",
      "source": [
        "autoencoder = AutoEncoder(channels=CHANNELS, latent_dim=LATENT_DIM).to(device)\n",
        "criterion = nn.MSELoss()\n",
        "optimizer = optim.Adam(params=autoencoder.parameters(), lr=LEARNING_RATE, weight_decay=WEIGHT_DECAY)\n",
        "scheduler = optim.lr_scheduler.StepLR(optimizer, step_size=8, gamma=0.1)"
      ],
      "metadata": {
        "id": "ZXwuQAXA5_XI"
      },
      "execution_count": 151,
      "outputs": []
    },
    {
      "cell_type": "code",
      "source": [
        "for epoch in tqdm(range(EPOCHS)):\n",
        "    autoencoder.train()\n",
        "\n",
        "    train_loss = 0.0\n",
        "    for i, (images, _) in enumerate(train_loader):\n",
        "        images = images.to(device)\n",
        "\n",
        "        outputs = autoencoder(images)\n",
        "        loss = criterion(outputs, images)\n",
        "        train_loss += loss.item()\n",
        "\n",
        "        loss.backward()\n",
        "        optimizer.step()\n",
        "\n",
        "        autoencoder.zero_grad()\n",
        "\n",
        "    scheduler.step()\n",
        "\n",
        "    autoencoder.eval()\n",
        "\n",
        "    valid_loss = 0.0\n",
        "    with torch.inference_mode():\n",
        "        for images, _ in valid_loader:\n",
        "            images = images.to(device)\n",
        "\n",
        "            outputs = autoencoder(images)\n",
        "            loss = criterion(outputs, images)\n",
        "            valid_loss += loss.item()\n",
        "\n",
        "    if not (epoch + 1) % 10 or epoch == EPOCHS - 1:\n",
        "        print(f'Epoch: {epoch + 1}, Train Loss: {train_loss:.4f}, Valid Loss: {valid_loss:.4f}')"
      ],
      "metadata": {
        "colab": {
          "base_uri": "https://localhost:8080/",
          "height": 120,
          "referenced_widgets": [
            "4822e753396545ea88288cb0cdda1866",
            "fb8e99d64ad14e3999f9769aa775dd18",
            "6cedf7b64bee4e50a374ad756bdd0707",
            "5a79866a6d0e46b696cc1c820cc8b713",
            "846dce27b5c74e30b32540e0899a99cb",
            "29927a5962624d58859ddbb8c7f226fa",
            "55076c0128fc464abe4deb18a9626a9c",
            "335882ad9a8b434589fe4847e8d4ab3f",
            "e17b8965b68542448a750df665d2e1b0",
            "22e83fd6b7084e24b5893acdc089c290",
            "07e43a568566415ea2bc8877c34f421d"
          ]
        },
        "id": "FevY7ed1Etjd",
        "outputId": "2e94f61b-862f-4938-86e0-d19eb16688c2"
      },
      "execution_count": 152,
      "outputs": [
        {
          "output_type": "display_data",
          "data": {
            "text/plain": [
              "  0%|          | 0/32 [00:00<?, ?it/s]"
            ],
            "application/vnd.jupyter.widget-view+json": {
              "version_major": 2,
              "version_minor": 0,
              "model_id": "4822e753396545ea88288cb0cdda1866"
            }
          },
          "metadata": {}
        },
        {
          "output_type": "stream",
          "name": "stdout",
          "text": [
            "Epoch: 10, Train Loss: 13.0349, Valid Loss: 1.1756\n",
            "Epoch: 20, Train Loss: 12.7469, Valid Loss: 1.1301\n",
            "Epoch: 30, Train Loss: 12.7036, Valid Loss: 1.1267\n",
            "Epoch: 32, Train Loss: 12.6272, Valid Loss: 1.1269\n"
          ]
        }
      ]
    },
    {
      "cell_type": "code",
      "source": [
        "valid_iter = iter(valid_loader)\n",
        "images, _ = next(valid_iter)\n",
        "\n",
        "rand_im = torch.randint(low=0, high=BATCH_SIZE, size=(1,)).item()\n",
        "\n",
        "img = images[rand_im]\n",
        "\n",
        "plt.subplot(1, 2, 1)\n",
        "plt.axis('off')\n",
        "plt.title(\"Original\")\n",
        "plt.imshow(transforms.ToPILImage()(img))\n",
        "\n",
        "# Generated\n",
        "\n",
        "encoder = autoencoder.encoder\n",
        "decoder = autoencoder.decoder\n",
        "\n",
        "img = img.unsqueeze(dim=0).to(device) # unsqueeze because we have passed a batch of inputs to trained model\n",
        "\n",
        "gen_img = decoder(encoder(img)) \n",
        "gen_img = gen_img.squeeze()\n",
        "\n",
        "plt.subplot(1, 2, 2)\n",
        "plt.axis('off')\n",
        "plt.title(\"Generated\")\n",
        "plt.imshow(transforms.ToPILImage()(gen_img))"
      ],
      "metadata": {
        "colab": {
          "base_uri": "https://localhost:8080/",
          "height": 201
        },
        "id": "MQpXfN9FJXOS",
        "outputId": "4b0d6562-15c7-431b-acc8-c8e992143d61"
      },
      "execution_count": 153,
      "outputs": [
        {
          "output_type": "execute_result",
          "data": {
            "text/plain": [
              "<matplotlib.image.AxesImage at 0x7f4ea45d0670>"
            ]
          },
          "metadata": {},
          "execution_count": 153
        },
        {
          "output_type": "display_data",
          "data": {
            "text/plain": [
              "<Figure size 432x288 with 2 Axes>"
            ],
            "image/png": "[encoded data removed]"
          },
          "metadata": {}
        }
      ]
    }
  ]
}