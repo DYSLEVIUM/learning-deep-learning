{
  "nbformat": 4,
  "nbformat_minor": 0,
  "metadata": {
    "colab": {
      "provenance": []
    },
    "kernelspec": {
      "name": "python3",
      "display_name": "Python 3"
    },
    "language_info": {
      "name": "python"
    },
    "accelerator": "GPU",
    "gpuClass": "standard",
    "widgets": {
      "application/vnd.jupyter.widget-state+json": {
        "ff114238c0b5446a8130cf5063902475": {
          "model_module": "@jupyter-widgets/controls",
          "model_name": "HBoxModel",
          "model_module_version": "1.5.0",
          "state": {
            "_dom_classes": [],
            "_model_module": "@jupyter-widgets/controls",
            "_model_module_version": "1.5.0",
            "_model_name": "HBoxModel",
            "_view_count": null,
            "_view_module": "@jupyter-widgets/controls",
            "_view_module_version": "1.5.0",
            "_view_name": "HBoxView",
            "box_style": "",
            "children": [
              "IPY_MODEL_bb5889c435734e9bb1589e23336c9efe",
              "IPY_MODEL_dc7300ee3e9044d1a7884da1c37f0c93",
              "IPY_MODEL_4aa92d472bfb44d4a3a31a1f4ae91615"
            ],
            "layout": "IPY_MODEL_40de7d7c938b49b4addb20aa18bd7068"
          }
        },
        "bb5889c435734e9bb1589e23336c9efe": {
          "model_module": "@jupyter-widgets/controls",
          "model_name": "HTMLModel",
          "model_module_version": "1.5.0",
          "state": {
            "_dom_classes": [],
            "_model_module": "@jupyter-widgets/controls",
            "_model_module_version": "1.5.0",
            "_model_name": "HTMLModel",
            "_view_count": null,
            "_view_module": "@jupyter-widgets/controls",
            "_view_module_version": "1.5.0",
            "_view_name": "HTMLView",
            "description": "",
            "description_tooltip": null,
            "layout": "IPY_MODEL_5e08ae3536f3492fad01dc414297a4c1",
            "placeholder": "​",
            "style": "IPY_MODEL_e819bf1acb264157868251286cde0b24",
            "value": "100%"
          }
        },
        "dc7300ee3e9044d1a7884da1c37f0c93": {
          "model_module": "@jupyter-widgets/controls",
          "model_name": "FloatProgressModel",
          "model_module_version": "1.5.0",
          "state": {
            "_dom_classes": [],
            "_model_module": "@jupyter-widgets/controls",
            "_model_module_version": "1.5.0",
            "_model_name": "FloatProgressModel",
            "_view_count": null,
            "_view_module": "@jupyter-widgets/controls",
            "_view_module_version": "1.5.0",
            "_view_name": "ProgressView",
            "bar_style": "success",
            "description": "",
            "description_tooltip": null,
            "layout": "IPY_MODEL_406cb829a5c248e6ba6b04ca18827c1f",
            "max": 32,
            "min": 0,
            "orientation": "horizontal",
            "style": "IPY_MODEL_cfef3df5cf2f40768c074552f8730687",
            "value": 32
          }
        },
        "4aa92d472bfb44d4a3a31a1f4ae91615": {
          "model_module": "@jupyter-widgets/controls",
          "model_name": "HTMLModel",
          "model_module_version": "1.5.0",
          "state": {
            "_dom_classes": [],
            "_model_module": "@jupyter-widgets/controls",
            "_model_module_version": "1.5.0",
            "_model_name": "HTMLModel",
            "_view_count": null,
            "_view_module": "@jupyter-widgets/controls",
            "_view_module_version": "1.5.0",
            "_view_name": "HTMLView",
            "description": "",
            "description_tooltip": null,
            "layout": "IPY_MODEL_2262283d05394de1b794ba31312713f2",
            "placeholder": "​",
            "style": "IPY_MODEL_04300fd87e5f4eb196505dade9160145",
            "value": " 32/32 [07:12&lt;00:00, 12.91s/it]"
          }
        },
        "40de7d7c938b49b4addb20aa18bd7068": {
          "model_module": "@jupyter-widgets/base",
          "model_name": "LayoutModel",
          "model_module_version": "1.2.0",
          "state": {
            "_model_module": "@jupyter-widgets/base",
            "_model_module_version": "1.2.0",
            "_model_name": "LayoutModel",
            "_view_count": null,
            "_view_module": "@jupyter-widgets/base",
            "_view_module_version": "1.2.0",
            "_view_name": "LayoutView",
            "align_content": null,
            "align_items": null,
            "align_self": null,
            "border": null,
            "bottom": null,
            "display": null,
            "flex": null,
            "flex_flow": null,
            "grid_area": null,
            "grid_auto_columns": null,
            "grid_auto_flow": null,
            "grid_auto_rows": null,
            "grid_column": null,
            "grid_gap": null,
            "grid_row": null,
            "grid_template_areas": null,
            "grid_template_columns": null,
            "grid_template_rows": null,
            "height": null,
            "justify_content": null,
            "justify_items": null,
            "left": null,
            "margin": null,
            "max_height": null,
            "max_width": null,
            "min_height": null,
            "min_width": null,
            "object_fit": null,
            "object_position": null,
            "order": null,
            "overflow": null,
            "overflow_x": null,
            "overflow_y": null,
            "padding": null,
            "right": null,
            "top": null,
            "visibility": null,
            "width": null
          }
        },
        "5e08ae3536f3492fad01dc414297a4c1": {
          "model_module": "@jupyter-widgets/base",
          "model_name": "LayoutModel",
          "model_module_version": "1.2.0",
          "state": {
            "_model_module": "@jupyter-widgets/base",
            "_model_module_version": "1.2.0",
            "_model_name": "LayoutModel",
            "_view_count": null,
            "_view_module": "@jupyter-widgets/base",
            "_view_module_version": "1.2.0",
            "_view_name": "LayoutView",
            "align_content": null,
            "align_items": null,
            "align_self": null,
            "border": null,
            "bottom": null,
            "display": null,
            "flex": null,
            "flex_flow": null,
            "grid_area": null,
            "grid_auto_columns": null,
            "grid_auto_flow": null,
            "grid_auto_rows": null,
            "grid_column": null,
            "grid_gap": null,
            "grid_row": null,
            "grid_template_areas": null,
            "grid_template_columns": null,
            "grid_template_rows": null,
            "height": null,
            "justify_content": null,
            "justify_items": null,
            "left": null,
            "margin": null,
            "max_height": null,
            "max_width": null,
            "min_height": null,
            "min_width": null,
            "object_fit": null,
            "object_position": null,
            "order": null,
            "overflow": null,
            "overflow_x": null,
            "overflow_y": null,
            "padding": null,
            "right": null,
            "top": null,
            "visibility": null,
            "width": null
          }
        },
        "e819bf1acb264157868251286cde0b24": {
          "model_module": "@jupyter-widgets/controls",
          "model_name": "DescriptionStyleModel",
          "model_module_version": "1.5.0",
          "state": {
            "_model_module": "@jupyter-widgets/controls",
            "_model_module_version": "1.5.0",
            "_model_name": "DescriptionStyleModel",
            "_view_count": null,
            "_view_module": "@jupyter-widgets/base",
            "_view_module_version": "1.2.0",
            "_view_name": "StyleView",
            "description_width": ""
          }
        },
        "406cb829a5c248e6ba6b04ca18827c1f": {
          "model_module": "@jupyter-widgets/base",
          "model_name": "LayoutModel",
          "model_module_version": "1.2.0",
          "state": {
            "_model_module": "@jupyter-widgets/base",
            "_model_module_version": "1.2.0",
            "_model_name": "LayoutModel",
            "_view_count": null,
            "_view_module": "@jupyter-widgets/base",
            "_view_module_version": "1.2.0",
            "_view_name": "LayoutView",
            "align_content": null,
            "align_items": null,
            "align_self": null,
            "border": null,
            "bottom": null,
            "display": null,
            "flex": null,
            "flex_flow": null,
            "grid_area": null,
            "grid_auto_columns": null,
            "grid_auto_flow": null,
            "grid_auto_rows": null,
            "grid_column": null,
            "grid_gap": null,
            "grid_row": null,
            "grid_template_areas": null,
            "grid_template_columns": null,
            "grid_template_rows": null,
            "height": null,
            "justify_content": null,
            "justify_items": null,
            "left": null,
            "margin": null,
            "max_height": null,
            "max_width": null,
            "min_height": null,
            "min_width": null,
            "object_fit": null,
            "object_position": null,
            "order": null,
            "overflow": null,
            "overflow_x": null,
            "overflow_y": null,
            "padding": null,
            "right": null,
            "top": null,
            "visibility": null,
            "width": null
          }
        },
        "cfef3df5cf2f40768c074552f8730687": {
          "model_module": "@jupyter-widgets/controls",
          "model_name": "ProgressStyleModel",
          "model_module_version": "1.5.0",
          "state": {
            "_model_module": "@jupyter-widgets/controls",
            "_model_module_version": "1.5.0",
            "_model_name": "ProgressStyleModel",
            "_view_count": null,
            "_view_module": "@jupyter-widgets/base",
            "_view_module_version": "1.2.0",
            "_view_name": "StyleView",
            "bar_color": null,
            "description_width": ""
          }
        },
        "2262283d05394de1b794ba31312713f2": {
          "model_module": "@jupyter-widgets/base",
          "model_name": "LayoutModel",
          "model_module_version": "1.2.0",
          "state": {
            "_model_module": "@jupyter-widgets/base",
            "_model_module_version": "1.2.0",
            "_model_name": "LayoutModel",
            "_view_count": null,
            "_view_module": "@jupyter-widgets/base",
            "_view_module_version": "1.2.0",
            "_view_name": "LayoutView",
            "align_content": null,
            "align_items": null,
            "align_self": null,
            "border": null,
            "bottom": null,
            "display": null,
            "flex": null,
            "flex_flow": null,
            "grid_area": null,
            "grid_auto_columns": null,
            "grid_auto_flow": null,
            "grid_auto_rows": null,
            "grid_column": null,
            "grid_gap": null,
            "grid_row": null,
            "grid_template_areas": null,
            "grid_template_columns": null,
            "grid_template_rows": null,
            "height": null,
            "justify_content": null,
            "justify_items": null,
            "left": null,
            "margin": null,
            "max_height": null,
            "max_width": null,
            "min_height": null,
            "min_width": null,
            "object_fit": null,
            "object_position": null,
            "order": null,
            "overflow": null,
            "overflow_x": null,
            "overflow_y": null,
            "padding": null,
            "right": null,
            "top": null,
            "visibility": null,
            "width": null
          }
        },
        "04300fd87e5f4eb196505dade9160145": {
          "model_module": "@jupyter-widgets/controls",
          "model_name": "DescriptionStyleModel",
          "model_module_version": "1.5.0",
          "state": {
            "_model_module": "@jupyter-widgets/controls",
            "_model_module_version": "1.5.0",
            "_model_name": "DescriptionStyleModel",
            "_view_count": null,
            "_view_module": "@jupyter-widgets/base",
            "_view_module_version": "1.2.0",
            "_view_name": "StyleView",
            "description_width": ""
          }
        }
      }
    }
  },
  "cells": [
    {
      "cell_type": "code",
      "execution_count": 300,
      "metadata": {
        "id": "7izfC9VgLExk",
        "colab": {
          "base_uri": "https://localhost:8080/"
        },
        "outputId": "870090ed-e44b-4285-ab0a-48c075f49d58"
      },
      "outputs": [
        {
          "output_type": "stream",
          "name": "stdout",
          "text": [
            "Looking in indexes: https://pypi.org/simple, https://us-python.pkg.dev/colab-wheels/public/simple/\n",
            "Requirement already satisfied: torch in /usr/local/lib/python3.8/dist-packages (1.13.0+cu116)\n",
            "Requirement already satisfied: torchvision in /usr/local/lib/python3.8/dist-packages (0.14.0+cu116)\n",
            "Requirement already satisfied: tqdm in /usr/local/lib/python3.8/dist-packages (4.64.1)\n",
            "Requirement already satisfied: torchinfo in /usr/local/lib/python3.8/dist-packages (1.7.1)\n",
            "Requirement already satisfied: numpy in /usr/local/lib/python3.8/dist-packages (1.21.6)\n",
            "Requirement already satisfied: pandas in /usr/local/lib/python3.8/dist-packages (1.3.5)\n",
            "Requirement already satisfied: matplotlib in /usr/local/lib/python3.8/dist-packages (3.2.2)\n",
            "Requirement already satisfied: seaborn in /usr/local/lib/python3.8/dist-packages (0.11.2)\n",
            "Requirement already satisfied: Pillow in /usr/local/lib/python3.8/dist-packages (7.1.2)\n",
            "Requirement already satisfied: typing-extensions in /usr/local/lib/python3.8/dist-packages (from torch) (4.4.0)\n",
            "Requirement already satisfied: requests in /usr/local/lib/python3.8/dist-packages (from torchvision) (2.25.1)\n",
            "Requirement already satisfied: python-dateutil>=2.7.3 in /usr/local/lib/python3.8/dist-packages (from pandas) (2.8.2)\n",
            "Requirement already satisfied: pytz>=2017.3 in /usr/local/lib/python3.8/dist-packages (from pandas) (2022.7)\n",
            "Requirement already satisfied: pyparsing!=2.0.4,!=2.1.2,!=2.1.6,>=2.0.1 in /usr/local/lib/python3.8/dist-packages (from matplotlib) (3.0.9)\n",
            "Requirement already satisfied: kiwisolver>=1.0.1 in /usr/local/lib/python3.8/dist-packages (from matplotlib) (1.4.4)\n",
            "Requirement already satisfied: cycler>=0.10 in /usr/local/lib/python3.8/dist-packages (from matplotlib) (0.11.0)\n",
            "Requirement already satisfied: scipy>=1.0 in /usr/local/lib/python3.8/dist-packages (from seaborn) (1.7.3)\n",
            "Requirement already satisfied: six>=1.5 in /usr/local/lib/python3.8/dist-packages (from python-dateutil>=2.7.3->pandas) (1.15.0)\n",
            "Requirement already satisfied: idna<3,>=2.5 in /usr/local/lib/python3.8/dist-packages (from requests->torchvision) (2.10)\n",
            "Requirement already satisfied: certifi>=2017.4.17 in /usr/local/lib/python3.8/dist-packages (from requests->torchvision) (2022.12.7)\n",
            "Requirement already satisfied: chardet<5,>=3.0.2 in /usr/local/lib/python3.8/dist-packages (from requests->torchvision) (4.0.0)\n",
            "Requirement already satisfied: urllib3<1.27,>=1.21.1 in /usr/local/lib/python3.8/dist-packages (from requests->torchvision) (1.24.3)\n"
          ]
        }
      ],
      "source": [
        "!pip install torch torchvision tqdm torchinfo numpy pandas matplotlib seaborn Pillow"
      ]
    },
    {
      "cell_type": "code",
      "source": [
        "import os\n",
        "import math\n",
        "\n",
        "import numpy as np\n",
        "import pandas as pd\n",
        "import matplotlib.pyplot as plt\n",
        "import seaborn as sns\n",
        "\n",
        "import torch\n",
        "import torch.nn as nn\n",
        "import torch.nn.functional as F\n",
        "import torch.optim as optim\n",
        "from torch.utils.data import DataLoader, Dataset\n",
        "\n",
        "import torchvision\n",
        "import torchvision.transforms as transforms\n",
        "from torchvision.utils import make_grid\n",
        "\n",
        "from IPython.display import display\n",
        "from PIL import Image\n",
        "\n",
        "from tqdm.auto import tqdm\n",
        "from torchinfo import summary\n",
        "\n",
        "%matplotlib inline\n",
        "sns.set()\n",
        "\n",
        "print(f'Torch Verison: {torch.__version__}')\n",
        "print(f'Torchvision Verison: {torchvision.__version__}')\n",
        "\n",
        "torch.manual_seed(42)\n",
        "torch.cuda.manual_seed_all(42)"
      ],
      "metadata": {
        "colab": {
          "base_uri": "https://localhost:8080/"
        },
        "id": "94WJW1WqaBfA",
        "outputId": "78f6eb94-79f7-495f-a62c-7c0870ebf06c"
      },
      "execution_count": 301,
      "outputs": [
        {
          "output_type": "stream",
          "name": "stdout",
          "text": [
            "Torch Verison: 1.13.0+cu116\n",
            "Torchvision Verison: 0.14.0+cu116\n"
          ]
        }
      ]
    },
    {
      "cell_type": "code",
      "source": [
        "device = torch.device('cuda' if torch.cuda.is_available() else 'cpu')\n",
        "device"
      ],
      "metadata": {
        "colab": {
          "base_uri": "https://localhost:8080/"
        },
        "id": "jWypd-5Gof0Q",
        "outputId": "20a0fc8c-8ce0-4976-c1bd-8e10d73a7a1f"
      },
      "execution_count": 302,
      "outputs": [
        {
          "output_type": "execute_result",
          "data": {
            "text/plain": [
              "device(type='cuda')"
            ]
          },
          "metadata": {},
          "execution_count": 302
        }
      ]
    },
    {
      "cell_type": "code",
      "source": [
        "train_transform = transforms.Compose([\n",
        "    # transforms.RandomRotation(degrees=20),\n",
        "    # transforms.RandomAffine(degrees=0, translate=(0.2, 0.2)),\n",
        "    # transforms.RandomAffine(degrees=0, scale=(0.5, 1.3)),\n",
        "    # transforms.RandomAffine(degrees=0, shear=(-5, 5, -5, 5)),\n",
        "    # transforms.RandomInvert(p=0.3),\n",
        "    # transforms.RandomApply([\n",
        "    #     transforms.GaussianBlur(kernel_size=(3, 3), sigma=(0.1, 2)),\n",
        "    # ], p=0.5),\n",
        "    transforms.ToTensor(),\n",
        "    # transforms.Normalize(0.1307, 0.3081) # mean and std of mnist dataset\n",
        "])\n",
        "\n",
        "test_transform = transforms.Compose([\n",
        "    transforms.ToTensor(),\n",
        "    # transforms.Normalize(0.1307, 0.3081)\n",
        "])"
      ],
      "metadata": {
        "id": "ElJ4803kln8_"
      },
      "execution_count": 531,
      "outputs": []
    },
    {
      "cell_type": "code",
      "source": [
        "train_dataset = torchvision.datasets.MNIST(root='./dataset', train=True, download=True, transform=train_transform)\n",
        "valid_dataset = torchvision.datasets.MNIST(root='./dataset', train=False, transform=test_transform)"
      ],
      "metadata": {
        "id": "NsHHY1sXlkxp"
      },
      "execution_count": 532,
      "outputs": []
    },
    {
      "cell_type": "code",
      "source": [
        "images, labels = zip(*[train_dataset[i] for i in range(10)])\n",
        "images = torch.stack(images)\n",
        "\n",
        "grid = torchvision.utils.make_grid(images, nrow=10, padding=4)\n",
        "\n",
        "fig, ax = plt.subplots(figsize=(30, 30))\n",
        "plt.imshow(grid.numpy().transpose((1, 2, 0)))\n",
        "plt.axis('off')\n",
        "plt.show()\n",
        "print([train_dataset.classes[label] for label in labels])"
      ],
      "metadata": {
        "colab": {
          "base_uri": "https://localhost:8080/",
          "height": 235
        },
        "id": "xEoiHMW-l-DK",
        "outputId": "9d224417-d580-4d6d-cf1e-3076feef20ff"
      },
      "execution_count": 533,
      "outputs": [
        {
          "output_type": "display_data",
          "data": {
            "text/plain": [
              "<Figure size 2160x2160 with 1 Axes>"
            ],
            "image/png": "[encoded data removed]"
          },
          "metadata": {}
        },
        {
          "output_type": "stream",
          "name": "stdout",
          "text": [
            "['5 - five', '0 - zero', '4 - four', '1 - one', '9 - nine', '2 - two', '1 - one', '3 - three', '1 - one', '4 - four']\n"
          ]
        }
      ]
    },
    {
      "cell_type": "code",
      "source": [
        "EPOCHS = 32\n",
        "BATCH_SIZE = 64\n",
        "LEARNING_RATE = 1e-3\n",
        "CHANNELS = 1\n",
        "LATENT_DIM = 128\n",
        "WIDTH = 28\n",
        "HEIGHT = 28\n",
        "WEIGHT_DECAY = 1e-3"
      ],
      "metadata": {
        "id": "2e4Yf5fAoJ0S"
      },
      "execution_count": 534,
      "outputs": []
    },
    {
      "cell_type": "code",
      "source": [
        "train_loader = DataLoader(train_dataset, batch_size=BATCH_SIZE, shuffle=True, num_workers=os.cpu_count(), pin_memory=True, drop_last=True)\n",
        "valid_loader = DataLoader(valid_dataset, batch_size=BATCH_SIZE, shuffle=False, num_workers=os.cpu_count(), pin_memory=True)"
      ],
      "metadata": {
        "id": "KRdFb5ZFoWuf"
      },
      "execution_count": 535,
      "outputs": []
    },
    {
      "cell_type": "code",
      "source": [
        "train_iter = iter(train_loader)\n",
        "images, labels = next(train_iter)\n",
        "\n",
        "print(torch.min(images), torch.max(images))\n",
        "\n",
        "plt.axis('off')\n",
        "plt.imshow(transforms.ToPILImage()(images[0]))"
      ],
      "metadata": {
        "colab": {
          "base_uri": "https://localhost:8080/",
          "height": 284
        },
        "id": "t6SiTQlisQsJ",
        "outputId": "2ea3bf74-f98c-4e97-ed14-b356274c8050"
      },
      "execution_count": 536,
      "outputs": [
        {
          "output_type": "stream",
          "name": "stdout",
          "text": [
            "tensor(0.) tensor(1.)\n"
          ]
        },
        {
          "output_type": "execute_result",
          "data": {
            "text/plain": [
              "<matplotlib.image.AxesImage at 0x7fa975648d60>"
            ]
          },
          "metadata": {},
          "execution_count": 536
        },
        {
          "output_type": "display_data",
          "data": {
            "text/plain": [
              "<Figure size 432x288 with 1 Axes>"
            ],
            "image/png": "[encoded data removed]"
          },
          "metadata": {}
        }
      ]
    },
    {
      "cell_type": "code",
      "source": [
        "class Encoder(nn.Module):\n",
        "    def __init__(self, channels, latent_dim):\n",
        "        super(Encoder, self).__init__()\n",
        "\n",
        "        self.net = nn.Sequential(\n",
        "            nn.Conv2d(in_channels=channels, out_channels=16, kernel_size=3, stride=2, padding=3, dilation=1, bias=True, padding_mode='zeros'), # N, 16, 16, 16\n",
        "            nn.LeakyReLU(negative_slope=0.01, inplace=True),\n",
        "            nn.Conv2d(in_channels=16, out_channels=16, kernel_size=3, stride=2, padding=1), # N, 16, 8, 8\n",
        "            nn.LeakyReLU(inplace=True),\n",
        "            nn.Conv2d(in_channels=16, out_channels=32, kernel_size=3, stride=2, padding=1), # N, 32, 4, 4\n",
        "            nn.LeakyReLU(inplace=True),\n",
        "            nn.Conv2d(in_channels=32, out_channels=latent_dim, kernel_size=4), # N, 64, 1, 1\n",
        "            nn.LeakyReLU(inplace=True),\n",
        "        )\n",
        "\n",
        "\n",
        "    def forward(self, x):\n",
        "        x = self.net(x)\n",
        "\n",
        "        '''\n",
        "            It is common practice to not use an activation function in the last layer of the encoder in an autoencoder. \n",
        "            This is because the last layer of the encoder should output a representation that captures the essential features of the input data, \n",
        "            and an activation function could distort this representation by introducing non-linearity.\n",
        "        '''\n",
        "\n",
        "        return x\n",
        "\n",
        "summary(model=Encoder(channels=CHANNELS, latent_dim=LATENT_DIM), input_size=[BATCH_SIZE, CHANNELS, WIDTH, HEIGHT])"
      ],
      "metadata": {
        "colab": {
          "base_uri": "https://localhost:8080/"
        },
        "id": "f1XHV-UIolho",
        "outputId": "7e34fa15-d7a8-4031-d838-f0ff58e6d154"
      },
      "execution_count": 562,
      "outputs": [
        {
          "output_type": "execute_result",
          "data": {
            "text/plain": [
              "==========================================================================================\n",
              "Layer (type:depth-idx)                   Output Shape              Param #\n",
              "==========================================================================================\n",
              "Encoder                                  [64, 128, 1, 1]           --\n",
              "├─Sequential: 1-1                        [64, 128, 1, 1]           --\n",
              "│    └─Conv2d: 2-1                       [64, 16, 16, 16]          160\n",
              "│    └─LeakyReLU: 2-2                    [64, 16, 16, 16]          --\n",
              "│    └─Conv2d: 2-3                       [64, 16, 8, 8]            2,320\n",
              "│    └─LeakyReLU: 2-4                    [64, 16, 8, 8]            --\n",
              "│    └─Conv2d: 2-5                       [64, 32, 4, 4]            4,640\n",
              "│    └─LeakyReLU: 2-6                    [64, 32, 4, 4]            --\n",
              "│    └─Conv2d: 2-7                       [64, 128, 1, 1]           65,664\n",
              "│    └─LeakyReLU: 2-8                    [64, 128, 1, 1]           --\n",
              "==========================================================================================\n",
              "Total params: 72,784\n",
              "Trainable params: 72,784\n",
              "Non-trainable params: 0\n",
              "Total mult-adds (M): 21.08\n",
              "==========================================================================================\n",
              "Input size (MB): 0.20\n",
              "Forward/backward pass size (MB): 2.95\n",
              "Params size (MB): 0.29\n",
              "Estimated Total Size (MB): 3.44\n",
              "=========================================================================================="
            ]
          },
          "metadata": {},
          "execution_count": 562
        }
      ]
    },
    {
      "cell_type": "code",
      "source": [
        "class Decoder(nn.Module):\n",
        "    def __init__(self, channels, latent_dim):\n",
        "        super(Decoder, self).__init__()\n",
        "\n",
        "        self.net = nn.Sequential(\n",
        "            nn.ConvTranspose2d(in_channels=latent_dim, out_channels=32, kernel_size=(4, 4), stride=1, padding=0, dilation=1, bias=True, padding_mode='zeros'), # N, 32, 4, 4\n",
        "            nn.LeakyReLU(inplace=True),\n",
        "            nn.ConvTranspose2d(in_channels=32, out_channels=16, kernel_size=3, stride=2, padding=1, output_padding=1), # N, 16, 7, 7 -> with output_padding=1 we get N, 16, 8, 8\n",
        "            nn.LeakyReLU(inplace=True),\n",
        "\n",
        "            nn.ConvTranspose2d(in_channels=16, out_channels=16, kernel_size=3, stride=2, padding=1, output_padding=1), # N, 16, 16, 16\n",
        "            nn.LeakyReLU(inplace=True),\n",
        "            nn.ConvTranspose2d(in_channels=16, out_channels=channels, kernel_size=3, stride=2, padding=3, output_padding=1), # N, 1, 28, 28\n",
        "            nn.Sigmoid() # as we have normalized the dataset, so our range is from [0, 1], so we want sigmoid, if it had been [-1, 1], i.e, mean=0.5 and std=0.5 we would have used tanh\n",
        "        )\n",
        "\n",
        "    def forward(self, x):\n",
        "        x = self.net(x)\n",
        "        return x\n",
        "\n",
        "# if we use MaxPool2d, we have to use MaxUnpool2d\n",
        "# if dataset is in range of [-1, 1], consider using leaky-relu \n",
        "\n",
        "summary(model=Decoder(channels=CHANNELS, latent_dim=LATENT_DIM), input_size=[BATCH_SIZE, LATENT_DIM, 1, 1])"
      ],
      "metadata": {
        "colab": {
          "base_uri": "https://localhost:8080/"
        },
        "id": "rCdIGkH9oodZ",
        "outputId": "10418e8a-5dbf-460d-e455-0b482fe4ae1c"
      },
      "execution_count": 563,
      "outputs": [
        {
          "output_type": "execute_result",
          "data": {
            "text/plain": [
              "==========================================================================================\n",
              "Layer (type:depth-idx)                   Output Shape              Param #\n",
              "==========================================================================================\n",
              "Decoder                                  [64, 1, 28, 28]           --\n",
              "├─Sequential: 1-1                        [64, 1, 28, 28]           --\n",
              "│    └─ConvTranspose2d: 2-1              [64, 32, 4, 4]            65,568\n",
              "│    └─LeakyReLU: 2-2                    [64, 32, 4, 4]            --\n",
              "│    └─ConvTranspose2d: 2-3              [64, 16, 8, 8]            4,624\n",
              "│    └─LeakyReLU: 2-4                    [64, 16, 8, 8]            --\n",
              "│    └─ConvTranspose2d: 2-5              [64, 16, 16, 16]          2,320\n",
              "│    └─LeakyReLU: 2-6                    [64, 16, 16, 16]          --\n",
              "│    └─ConvTranspose2d: 2-7              [64, 1, 28, 28]           145\n",
              "│    └─Sigmoid: 2-8                      [64, 1, 28, 28]           --\n",
              "==========================================================================================\n",
              "Total params: 72,657\n",
              "Trainable params: 72,657\n",
              "Non-trainable params: 0\n",
              "Total mult-adds (M): 131.37\n",
              "==========================================================================================\n",
              "Input size (MB): 0.03\n",
              "Forward/backward pass size (MB): 3.28\n",
              "Params size (MB): 0.29\n",
              "Estimated Total Size (MB): 3.61\n",
              "=========================================================================================="
            ]
          },
          "metadata": {},
          "execution_count": 563
        }
      ]
    },
    {
      "cell_type": "code",
      "source": [
        "# AutoEncoders are also a type of generative model\n",
        "class AutoEncoder(nn.Module):\n",
        "    def __init__(self, channels, latent_dim):\n",
        "        super(AutoEncoder, self).__init__()\n",
        "        self.encoder = Encoder(channels, latent_dim).to(device)\n",
        "        self.decoder = Decoder(channels, latent_dim).to(device)\n",
        "    \n",
        "    def forward(self, x):\n",
        "        z = self.encoder(x)\n",
        "        x_hat = self.decoder(z)\n",
        "\n",
        "        return x_hat\n",
        "\n",
        "summary(model=AutoEncoder(channels=CHANNELS, latent_dim=LATENT_DIM), input_size=[BATCH_SIZE, CHANNELS, WIDTH, HEIGHT])"
      ],
      "metadata": {
        "colab": {
          "base_uri": "https://localhost:8080/"
        },
        "id": "fYTGadGz7Obu",
        "outputId": "64db2cd8-c3b2-4d40-897a-f4ea8e374e85"
      },
      "execution_count": 564,
      "outputs": [
        {
          "output_type": "execute_result",
          "data": {
            "text/plain": [
              "==========================================================================================\n",
              "Layer (type:depth-idx)                   Output Shape              Param #\n",
              "==========================================================================================\n",
              "AutoEncoder                              [64, 1, 28, 28]           --\n",
              "├─Encoder: 1-1                           [64, 128, 1, 1]           --\n",
              "│    └─Sequential: 2-1                   [64, 128, 1, 1]           --\n",
              "│    │    └─Conv2d: 3-1                  [64, 16, 16, 16]          160\n",
              "│    │    └─LeakyReLU: 3-2               [64, 16, 16, 16]          --\n",
              "│    │    └─Conv2d: 3-3                  [64, 16, 8, 8]            2,320\n",
              "│    │    └─LeakyReLU: 3-4               [64, 16, 8, 8]            --\n",
              "│    │    └─Conv2d: 3-5                  [64, 32, 4, 4]            4,640\n",
              "│    │    └─LeakyReLU: 3-6               [64, 32, 4, 4]            --\n",
              "│    │    └─Conv2d: 3-7                  [64, 128, 1, 1]           65,664\n",
              "│    │    └─LeakyReLU: 3-8               [64, 128, 1, 1]           --\n",
              "├─Decoder: 1-2                           [64, 1, 28, 28]           --\n",
              "│    └─Sequential: 2-2                   [64, 1, 28, 28]           --\n",
              "│    │    └─ConvTranspose2d: 3-9         [64, 32, 4, 4]            65,568\n",
              "│    │    └─LeakyReLU: 3-10              [64, 32, 4, 4]            --\n",
              "│    │    └─ConvTranspose2d: 3-11        [64, 16, 8, 8]            4,624\n",
              "│    │    └─LeakyReLU: 3-12              [64, 16, 8, 8]            --\n",
              "│    │    └─ConvTranspose2d: 3-13        [64, 16, 16, 16]          2,320\n",
              "│    │    └─LeakyReLU: 3-14              [64, 16, 16, 16]          --\n",
              "│    │    └─ConvTranspose2d: 3-15        [64, 1, 28, 28]           145\n",
              "│    │    └─Sigmoid: 3-16                [64, 1, 28, 28]           --\n",
              "==========================================================================================\n",
              "Total params: 145,441\n",
              "Trainable params: 145,441\n",
              "Non-trainable params: 0\n",
              "Total mult-adds (M): 152.45\n",
              "==========================================================================================\n",
              "Input size (MB): 0.20\n",
              "Forward/backward pass size (MB): 6.23\n",
              "Params size (MB): 0.58\n",
              "Estimated Total Size (MB): 7.02\n",
              "=========================================================================================="
            ]
          },
          "metadata": {},
          "execution_count": 564
        }
      ]
    },
    {
      "cell_type": "code",
      "source": [
        "autoencoder = AutoEncoder(channels=CHANNELS, latent_dim=LATENT_DIM).to(device)\n",
        "criterion = nn.MSELoss()\n",
        "optimizer = optim.Adam(params=autoencoder.parameters(), lr=LEARNING_RATE, weight_decay=WEIGHT_DECAY)\n",
        "scheduler = optim.lr_scheduler.StepLR(optimizer, step_size=8, gamma=0.1)"
      ],
      "metadata": {
        "id": "ZXwuQAXA5_XI"
      },
      "execution_count": 565,
      "outputs": []
    },
    {
      "cell_type": "code",
      "source": [
        "for epoch in tqdm(range(EPOCHS)):\n",
        "    autoencoder.train()\n",
        "\n",
        "    train_loss = 0.0\n",
        "    for i, (images, _) in enumerate(train_loader):\n",
        "        images = images.to(device)\n",
        "\n",
        "        outputs = autoencoder(images)\n",
        "        loss = criterion(outputs, images)\n",
        "        train_loss += loss.item()\n",
        "\n",
        "        loss.backward()\n",
        "        optimizer.step()\n",
        "\n",
        "        autoencoder.zero_grad()\n",
        "\n",
        "    scheduler.step()\n",
        "\n",
        "    autoencoder.eval()\n",
        "\n",
        "    valid_loss = 0.0\n",
        "    with torch.inference_mode():\n",
        "        for images, _ in valid_loader:\n",
        "            images = images.to(device)\n",
        "\n",
        "            outputs = autoencoder(images)\n",
        "            loss = criterion(outputs, images)\n",
        "            valid_loss += loss.item()\n",
        "\n",
        "    print(f'Epoch: {epoch + 1}, Train Loss: {train_loss:.4f}, Valid Loss: {valid_loss:.4f}')"
      ],
      "metadata": {
        "colab": {
          "base_uri": "https://localhost:8080/",
          "height": 621,
          "referenced_widgets": [
            "ff114238c0b5446a8130cf5063902475",
            "bb5889c435734e9bb1589e23336c9efe",
            "dc7300ee3e9044d1a7884da1c37f0c93",
            "4aa92d472bfb44d4a3a31a1f4ae91615",
            "40de7d7c938b49b4addb20aa18bd7068",
            "5e08ae3536f3492fad01dc414297a4c1",
            "e819bf1acb264157868251286cde0b24",
            "406cb829a5c248e6ba6b04ca18827c1f",
            "cfef3df5cf2f40768c074552f8730687",
            "2262283d05394de1b794ba31312713f2",
            "04300fd87e5f4eb196505dade9160145"
          ]
        },
        "id": "FevY7ed1Etjd",
        "outputId": "80b010dc-2cc5-4775-96b5-557cd1623411"
      },
      "execution_count": 566,
      "outputs": [
        {
          "output_type": "display_data",
          "data": {
            "text/plain": [
              "  0%|          | 0/32 [00:00<?, ?it/s]"
            ],
            "application/vnd.jupyter.widget-view+json": {
              "version_major": 2,
              "version_minor": 0,
              "model_id": "ff114238c0b5446a8130cf5063902475"
            }
          },
          "metadata": {}
        },
        {
          "output_type": "stream",
          "name": "stdout",
          "text": [
            "Epoch: 1, Train Loss: 71.6896, Valid Loss: 10.4377\n",
            "Epoch: 2, Train Loss: 56.2519, Valid Loss: 7.7683\n",
            "Epoch: 3, Train Loss: 38.3187, Valid Loss: 5.4489\n",
            "Epoch: 4, Train Loss: 30.3736, Valid Loss: 4.7100\n",
            "Epoch: 5, Train Loss: 27.5263, Valid Loss: 4.3543\n",
            "Epoch: 6, Train Loss: 25.7859, Valid Loss: 4.1636\n",
            "Epoch: 7, Train Loss: 24.7545, Valid Loss: 3.9540\n",
            "Epoch: 8, Train Loss: 23.8924, Valid Loss: 3.8728\n",
            "Epoch: 9, Train Loss: 22.6969, Valid Loss: 3.7063\n",
            "Epoch: 10, Train Loss: 22.5265, Valid Loss: 3.6842\n",
            "Epoch: 11, Train Loss: 22.3867, Valid Loss: 3.6589\n",
            "Epoch: 12, Train Loss: 22.2682, Valid Loss: 3.6438\n",
            "Epoch: 13, Train Loss: 22.1489, Valid Loss: 3.6287\n",
            "Epoch: 14, Train Loss: 22.0528, Valid Loss: 3.6030\n",
            "Epoch: 15, Train Loss: 21.9498, Valid Loss: 3.5860\n",
            "Epoch: 16, Train Loss: 21.8487, Valid Loss: 3.5649\n",
            "Epoch: 17, Train Loss: 21.6880, Valid Loss: 3.5549\n",
            "Epoch: 18, Train Loss: 21.6674, Valid Loss: 3.5494\n",
            "Epoch: 19, Train Loss: 21.6479, Valid Loss: 3.5502\n",
            "Epoch: 20, Train Loss: 21.6348, Valid Loss: 3.5439\n",
            "Epoch: 21, Train Loss: 21.6130, Valid Loss: 3.5420\n",
            "Epoch: 22, Train Loss: 21.5942, Valid Loss: 3.5375\n",
            "Epoch: 23, Train Loss: 21.5707, Valid Loss: 3.5322\n",
            "Epoch: 24, Train Loss: 21.5440, Valid Loss: 3.5302\n",
            "Epoch: 25, Train Loss: 21.5197, Valid Loss: 3.5271\n",
            "Epoch: 26, Train Loss: 21.5158, Valid Loss: 3.5264\n",
            "Epoch: 27, Train Loss: 21.5122, Valid Loss: 3.5258\n",
            "Epoch: 28, Train Loss: 21.5084, Valid Loss: 3.5253\n",
            "Epoch: 29, Train Loss: 21.5065, Valid Loss: 3.5249\n",
            "Epoch: 30, Train Loss: 21.5032, Valid Loss: 3.5244\n",
            "Epoch: 31, Train Loss: 21.5037, Valid Loss: 3.5239\n",
            "Epoch: 32, Train Loss: 21.4974, Valid Loss: 3.5238\n"
          ]
        }
      ]
    },
    {
      "cell_type": "code",
      "source": [
        "valid_iter = iter(valid_loader)\n",
        "images, _ = next(valid_iter)\n",
        "\n",
        "plt.axis('off')\n",
        "plt.imshow(transforms.ToPILImage()(images[0]))"
      ],
      "metadata": {
        "colab": {
          "base_uri": "https://localhost:8080/",
          "height": 266
        },
        "id": "MQpXfN9FJXOS",
        "outputId": "1ebf9975-80b3-4baa-990e-bce301433294"
      },
      "execution_count": 567,
      "outputs": [
        {
          "output_type": "execute_result",
          "data": {
            "text/plain": [
              "<matplotlib.image.AxesImage at 0x7faa188ffbe0>"
            ]
          },
          "metadata": {},
          "execution_count": 567
        },
        {
          "output_type": "display_data",
          "data": {
            "text/plain": [
              "<Figure size 432x288 with 1 Axes>"
            ],
            "image/png": "[encoded data removed]"
          },
          "metadata": {}
        }
      ]
    },
    {
      "cell_type": "code",
      "source": [
        "encoder = autoencoder.encoder\n",
        "decoder = autoencoder.decoder\n",
        "\n",
        "img = images[0].unsqueeze(dim=0).to(device) # unsqueeze because we have passed a batch of inputs to trained model\n",
        "\n",
        "gen_img = decoder(encoder(img)) \n",
        "gen_img = gen_img.squeeze()\n",
        "\n",
        "plt.axis('off')\n",
        "plt.imshow(transforms.ToPILImage()(gen_img))"
      ],
      "metadata": {
        "colab": {
          "base_uri": "https://localhost:8080/",
          "height": 266
        },
        "id": "TLs0DBqDNtJ2",
        "outputId": "eff5a358-7e14-44a7-d936-8ae9c4e83a4a"
      },
      "execution_count": 568,
      "outputs": [
        {
          "output_type": "execute_result",
          "data": {
            "text/plain": [
              "<matplotlib.image.AxesImage at 0x7faa188ffdf0>"
            ]
          },
          "metadata": {},
          "execution_count": 568
        },
        {
          "output_type": "display_data",
          "data": {
            "text/plain": [
              "<Figure size 432x288 with 1 Axes>"
            ],
            "image/png": "[encoded data removed]"
          },
          "metadata": {}
        }
      ]
    }
  ]
}